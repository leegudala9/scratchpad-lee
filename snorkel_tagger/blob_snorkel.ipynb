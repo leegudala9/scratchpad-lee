{
 "cells": [
  {
   "cell_type": "code",
   "execution_count": 1,
   "metadata": {},
   "outputs": [],
   "source": [
    "import entity_formatter\n",
    "from entity_tagger import entity_tagger as tagger\n",
    "import requests\n",
    "import json\n",
    "import pandas as pd\n",
    "import boto3\n",
    "import traceback\n",
    "import snorkel\n",
    "import json"
   ]
  },
  {
   "cell_type": "code",
   "execution_count": 2,
   "metadata": {},
   "outputs": [
    {
     "data": {
      "text/plain": [
       "UUID('175dcda3-55ba-4418-b001-44d6ca49e467')"
      ]
     },
     "execution_count": 2,
     "metadata": {},
     "output_type": "execute_result"
    }
   ],
   "source": [
    "import uuid\n",
    "uuid.uuid4()"
   ]
  },
  {
   "cell_type": "code",
   "execution_count": 3,
   "metadata": {},
   "outputs": [],
   "source": [
    "import numpy as np\n",
    "import spacy\n",
    "import nltk\n",
    "from nltk.parse import CoreNLPParser\n",
    "import en_core_web_sm\n",
    "nlp = spacy.load(\"en_core_web_sm\")\n",
    "from nltk.tag.stanford import StanfordNERTagger\n",
    "from nltk.tokenize import word_tokenize  \n",
    "sner_tagger = StanfordNERTagger('taging_data/english.all.3class.distsim.crf.ser.gz',\n",
    "               'taging_data/stanford-ner.jar',\n",
    "               encoding='utf-8')"
   ]
  },
  {
   "cell_type": "code",
   "execution_count": 4,
   "metadata": {},
   "outputs": [],
   "source": [
    "## MOST IMPORTANT\n",
    "exp_id = \"exp03\" #unique for each experiment"
   ]
  },
  {
   "cell_type": "code",
   "execution_count": 5,
   "metadata": {},
   "outputs": [],
   "source": [
    "ssm = boto3.client(\"ssm\")\n",
    "s3 = boto3.client(\"s3\")\n",
    "root_url = ssm.get_parameter(Name=f\"/account/root-url\")[\"Parameter\"][\"Value\"]\n",
    "apikey = ssm.get_parameter(Name=\"/account/internal-api-key\")[\"Parameter\"][\"Value\"]\n",
    "v1_url = f\"https://remember.{root_url}\"\n",
    "v2_url = f\"https://rememberv2.{root_url}/latest\"\n",
    "acc_owner = ssm.get_parameter(Name=\"/account/owner\")[\"Parameter\"][\"Value\"].upper()\n",
    "headers = {\"x-api-key\": apikey, \"Authorization\": apikey}"
   ]
  },
  {
   "cell_type": "code",
   "execution_count": 6,
   "metadata": {},
   "outputs": [],
   "source": [
    "temp_tagged = []\n",
    "temp_untagged = []\n",
    "page_blobs = []\n",
    "Full_list = []\n",
    "lol = []"
   ]
  },
  {
   "cell_type": "code",
   "execution_count": 15,
   "metadata": {},
   "outputs": [],
   "source": [
    "def rememberv2_query(index={}, filters={}):\n",
    "    url = f\"{v2_url}/query\"\n",
    "    results = {}\n",
    "    try:\n",
    "        payload = {\n",
    "            \"Index\": index,\n",
    "            \"Filter\": filters\n",
    "        }\n",
    "        results = json.loads(requests.post(url=url, data=json.dumps(payload), headers=headers).text)[\"Results\"]\n",
    "    except:\n",
    "        print(traceback.format_exc())    \n",
    "    return results\n",
    "\n",
    "\n",
    "def rememberv2_read(objectid):\n",
    "    url = f\"{v2_url}/read\"\n",
    "    results = {}\n",
    "    try:\n",
    "        payload = {\n",
    "            \"ObjectId\": objectid,\n",
    "        }\n",
    "        results = json.loads(requests.post(url=url, data=json.dumps(payload), headers=headers).text)[\"Results\"]\n",
    "    except:\n",
    "        print(traceback.format_exc())\n",
    "    return results\n",
    "\n",
    "\n",
    "\n",
    "def remember_recall(rid, datapoint):\n",
    "    url = f\"{v1_url}/recall?_remember_id={rid}&_datapoint={datapoint}\"\n",
    "    res = {}\n",
    "    try:\n",
    "        res = json.loads(requests.get(url=url).text)[\"datapoints\"][0][\"data\"]\n",
    "    except:\n",
    "        print(traceback.format_exc())\n",
    "    return res\n",
    "    \n",
    "# def make_text_blob(word_ocr):\n",
    "#     text_list = []\n",
    "    \n",
    "#     for i in word_ocr[\"Words\"]:\n",
    "#         text_list.append(i[\"text\"])\n",
    "#     #print(\"\\n\\n\\nBefore Sending it off: \" , text_list)\n",
    "#     return text_list\n",
    "\n",
    "def remember_write(datapoint):\n",
    "    resp_dict = {}\n",
    "    url = f\"{v2_url}/write\"\n",
    "    try:\n",
    "        resp = requests.post(\n",
    "            url=url, data=json.dumps(datapoint), headers=headers\n",
    "        )\n",
    "        resp_dict = resp.json()\n",
    "    except:\n",
    "        print(traceback.format_exc())\n",
    "    return resp_dict\n",
    "\n",
    "\n",
    "def create_datapoint(Type, Fields, TransactionId, Attributes=None):\n",
    "    datapoint = {\n",
    "        \"Type\": Type,\n",
    "        \"Fields\": Fields,\n",
    "        \"TransactionId\": TransactionId,\n",
    "    }\n",
    "    if Attributes != None:\n",
    "        datapoint[\"Attributes\"] = Attributes\n",
    "    return remember_write(datapoint)\n",
    "\n",
    "\n",
    "def remember_memorize(data, rid, datapoint, metadata={}):\n",
    "    url = f\"{v1_url}/memoorize\"\n",
    "    try:\n",
    "        metadata.update({\n",
    "            \"_remember_id\": rid,\n",
    "            \"_datapoint\": datapoint\n",
    "        })\n",
    "        payload = {\n",
    "            \"data\": data,\n",
    "            \"metadata\": metadata \n",
    "        }\n",
    "        resp = requests.post(\n",
    "                url=url, data=json.dumps(payload), headers=headers)\n",
    "    except:\n",
    "        print(traceback.format_exc())\n",
    "    return resp\n",
    "def do_sner_tag(text):\n",
    "    text = text.replace(\"/\",\"-\")\n",
    "    text = text.replace(\"[]\",\"\")\n",
    "    tagged_list = sner_tagger.tag(word_tokenize(text))\n",
    "    return tagged_list\n",
    "def do_spacy_tag(text):\n",
    "    text = text.replace(\"/\",\"-\")\n",
    "    \n",
    "\n",
    "def aggregate_formatted_entities(docid):\n",
    "    temp_dict = {}\n",
    "    try:\n",
    "        recall_txn = rememberv2_read(docid)[0]\n",
    "        txnid = recall_txn[\"TransactionId\"]\n",
    "        file_pages = recall_txn[\"Pages\"]\n",
    "        start = file_pages[0]\n",
    "        doc_pages = list(range(1, len(file_pages)+1))\n",
    "        page_ocrs_ids = {x['ParentIndex']:x['ObjectId'] for x in rememberv2_query({'PageOcr::TransactionId': txnid}, {'ParentIndex': file_pages})}\n",
    "        results = {}\n",
    "        formatted_doc = {}\n",
    "        count = 0\n",
    "        print(\"pages-->\",sorted(page_ocrs_ids.keys()))\n",
    "        for page in sorted(page_ocrs_ids.keys()):\n",
    "            try:\n",
    "                \n",
    "                #print(\"Going on a count: \", count)\n",
    "                count = count+1\n",
    "                words_ocr = rememberv2_query({'Parent': page_ocrs_ids[page]})\n",
    "                parsed_words = tagger.parse_words(words_ocr[0]['Words'])\n",
    "                print(parsed_words)\n",
    "                blob = tagger.make_blob(parsed_words)\n",
    "                #lol.append(parsed_words)\n",
    "                #print(\"page_number --> \", page)\n",
    "                call_make_df(parsed_words,blob,page,docid)\n",
    "#                 tagged = tagger.handler({'body': json.dumps(words_ocr[0])}, {})\n",
    "#                 find_untagged_words(parsed_words,tagged)\n",
    "#                 formatted = entity_formatter.format_entities(json.loads(tagged['body'])['entities'], page-start+1)['body']\n",
    "#                 results[page] = formatted\n",
    "#                 create_datapoint(\"PageTaggedEntitiesExp\", {\"Entities\": formatted, \"FilePageIndex\": page, \"ExpId\": exp_id}, txnid ,{\"PageTaggedEntitiesExp::DocumentId\": docid})\n",
    "#                 for key in formatted.keys():\n",
    "#                     if key in formatted_doc:\n",
    "#                         formatted_doc[key] = formatted_doc[key] + formatted[key]\n",
    "#                     else:\n",
    "#                         formatted_doc[key] = formatted[key]\n",
    "            except:\n",
    "                print(traceback.format_exc())\n",
    "                pass\n",
    "        return formatted_doc\n",
    "    except:\n",
    "        print(traceback.format_exc())\n",
    "        pass\n",
    "def process_tagged_with_text(page):\n",
    "    # extract all named entities\n",
    "    tagged_entities = []\n",
    "    index_count = 0\n",
    "    entity_id = ''\n",
    "    \n",
    "    for term, tag in sentence:\n",
    "        if tag != 'O':\n",
    "            word = term\n",
    "            word_tag = tag\n",
    "            entity_id = uuid.uuid4()\n",
    "            make_entity = {'entity_id': entity_id.hex, 'text': word, 'entity_score': 0.9902280569076538 , 'entity_type': word_tag,'string_index': index_count }                    \n",
    "            index_count = len(term)+index_count+1\n",
    "            tagged_entities.append(make_entity)\n",
    "        else:\n",
    "            index_count = len(term)+index_count+1\n",
    "        \n",
    "    return tagged_entities\n",
    "\n",
    "def find_untagged_words(untagged,tagged):\n",
    "    temp_tagged.append(tagged)\n",
    "    temp_untagged.append(untagged)\n",
    "\n",
    "def get_bucket_key(path):\n",
    "    bucket = path.split('/')[2]\n",
    "    key = path.replace(f'S3://{bucket}/', '')\n",
    "    return bucket, key\n",
    "\n",
    "\n",
    "def get_object(path, s3):\n",
    "    bucket, key = get_bucket_key(path)\n",
    "    res = s3.get_object(\n",
    "        Bucket=bucket,\n",
    "        Key=key\n",
    "    )['Body'].read().decode('utf-8')\n",
    "    return res\n",
    "\n",
    "\n",
    "def put_object(path, s3, data):\n",
    "    bucket, key = get_bucket_key(path)\n",
    "    s3.put_object(\n",
    "        Bucket=bucket,\n",
    "        Body=json.dumps(data),\n",
    "        Key=key\n",
    "    )\n",
    "def get_tagged_words(tagged):\n",
    "    list_of_tagged_word_ids = []\n",
    "    for page in tagged:\n",
    "        rip_a_page = json.loads(page[\"body\"])\n",
    "        for entity in rip_a_page[\"entities\"]:\n",
    "            list_of_tagged_word_ids.append(entity[\"word_id\"])\n",
    "    return list_of_tagged_word_ids    \n",
    "    \n",
    "def get_untagged_words(untagged,list_of_tagged_word_ids):\n",
    "    list_of_untagged_word_ids = []\n",
    "    list_of_untagged_entities = []\n",
    "    for page in untagged:\n",
    "        for entity in page:\n",
    "            list_of_untagged_word_ids.append(entity[\"word_id\"])\n",
    "    l3 = [x for x in list_of_untagged_word_ids if x not in list_of_tagged_word_ids]\n",
    "    for word in l3:\n",
    "        for page in untagged:\n",
    "            for entity in page:\n",
    "                if entity[\"word_id\"] == word:\n",
    "                    list_of_untagged_entities.append(entity)\n",
    "    return list_of_untagged_entities,l3\n",
    "    \n",
    "def memorize_results_update_inplace(docid):\n",
    "    formatted_doc = aggregate_formatted_entities(docid)\n",
    "    current_path = remember_recall(docid, '_aggregated_formatted_entities_path')\n",
    "    new_path = current_path.replace(\"FormattedEntities\", f\"FormattedEntities{exp_id}\")\n",
    "    put_object(new_path, s3, formatted_doc)\n",
    "    return new_path\n",
    "        \n",
    "    "
   ]
  },
  {
   "cell_type": "code",
   "execution_count": 16,
   "metadata": {},
   "outputs": [],
   "source": [
    "def call_make_df(parsed_words,blob,page_num,docid):\n",
    "    for i in parsed_words:\n",
    "        i[\"text_blob\"] = blob\n",
    "        i[\"page_ind\"] = f'page_{page_num+1}'\n",
    "        i[\"rid\"] = docid\n",
    "        i[\"page\"] = page_num+1\n",
    "        full_lits.append(i)\n",
    "    "
   ]
  },
  {
   "cell_type": "code",
   "execution_count": 17,
   "metadata": {},
   "outputs": [],
   "source": [
    "full_lits = []"
   ]
  },
  {
   "cell_type": "code",
   "execution_count": 18,
   "metadata": {},
   "outputs": [],
   "source": [
    "df = pd.read_csv(\"1003_rid_new.csv\",names=[\"rid\"])"
   ]
  },
  {
   "cell_type": "code",
   "execution_count": 19,
   "metadata": {},
   "outputs": [
    {
     "data": {
      "text/plain": [
       "(1601, 1)"
      ]
     },
     "execution_count": 19,
     "metadata": {},
     "output_type": "execute_result"
    }
   ],
   "source": [
    "df.shape"
   ]
  },
  {
   "cell_type": "code",
   "execution_count": 20,
   "metadata": {},
   "outputs": [],
   "source": [
    "temp = df.head(10)"
   ]
  },
  {
   "cell_type": "code",
   "execution_count": 21,
   "metadata": {},
   "outputs": [],
   "source": [
    "\n",
    "#np.savetxt(r'testing_rids.txt', temp.rid.values, fmt='%s')\n"
   ]
  },
  {
   "cell_type": "code",
   "execution_count": 22,
   "metadata": {
    "scrolled": true
   },
   "outputs": [],
   "source": [
    "#temp[f\"{exp_id}_path\"] = temp.apply(lambda row: memorize_results_update_inplace(row[\"rid\"]), axis = 1)"
   ]
  },
  {
   "cell_type": "code",
   "execution_count": 23,
   "metadata": {},
   "outputs": [
    {
     "name": "stdout",
     "output_type": "stream",
     "text": [
      "pages--> [0]\n",
      "[{'word_id': 'word_1_1', 'text': 'Uniform', 'string_index': 0, 'bounding_box': [520, 164, 779, 218], 'confidence': 0.9}, {'word_id': 'word_1_2', 'text': 'Underwriting', 'string_index': 8, 'bounding_box': [803, 164, 1208, 233], 'confidence': 0.92}, {'word_id': 'word_1_3', 'text': 'and', 'string_index': 21, 'bounding_box': [1235, 166, 1339, 219], 'confidence': 0.93}, {'word_id': 'word_1_4', 'text': 'Transmittal', 'string_index': 25, 'bounding_box': [1364, 164, 1709, 218], 'confidence': 0.91}, {'word_id': 'word_1_5', 'text': 'Summary', 'string_index': 37, 'bounding_box': [1736, 166, 2023, 233], 'confidence': 0.9}, {'word_id': 'word_1_6', 'text': 'I.', 'string_index': 45, 'bounding_box': [125, 264, 144, 293], 'confidence': 0.34}, {'word_id': 'word_1_7', 'text': 'Borrower', 'string_index': 48, 'bounding_box': [165, 264, 338, 294], 'confidence': 0.91}, {'word_id': 'word_1_8', 'text': 'and', 'string_index': 57, 'bounding_box': [355, 264, 421, 294], 'confidence': 0.91}, {'word_id': 'word_1_9', 'text': 'Property', 'string_index': 61, 'bounding_box': [440, 264, 599, 301], 'confidence': 0.93}, {'word_id': 'word_1_10', 'text': 'Information', 'string_index': 70, 'bounding_box': [617, 264, 832, 294], 'confidence': 0.9}, {'word_id': 'word_1_28', 'text': 'Borrower', 'string_index': 82, 'bounding_box': [118, 326, 256, 350], 'confidence': 0.92}, {'word_id': 'word_1_29', 'text': 'Name', 'string_index': 91, 'bounding_box': [271, 326, 355, 350], 'confidence': 0.88}, {'word_id': 'word_1_30', 'text': 'JOE', 'string_index': 96, 'bounding_box': [387, 322, 461, 352], 'confidence': 0.85}, {'word_id': 'word_1_31', 'text': 'MADDEN', 'string_index': 100, 'bounding_box': [514, 322, 662, 352], 'confidence': 0.6}, {'word_id': 'word_1_32', 'text': 'SSN', 'string_index': 107, 'bounding_box': [1767, 326, 1830, 350], 'confidence': 0.87}, {'word_id': 'word_1_33', 'text': '462-23-7007', 'string_index': 111, 'bounding_box': [1856, 322, 2127, 353], 'confidence': 0.67}, {'word_id': 'word_1_34', 'text': 'Co-Borrower', 'string_index': 123, 'bounding_box': [117, 376, 309, 400], 'confidence': 0.91}, {'word_id': 'word_1_35', 'text': 'Name', 'string_index': 135, 'bounding_box': [324, 376, 408, 400], 'confidence': 0.92}, {'word_id': 'word_1_36', 'text': 'SSN', 'string_index': 140, 'bounding_box': [1767, 376, 1830, 400], 'confidence': 0.92}, {'word_id': 'word_1_37', 'text': 'Property', 'string_index': 144, 'bounding_box': [118, 426, 244, 456], 'confidence': 0.93}, {'word_id': 'word_1_38', 'text': 'Address', 'string_index': 153, 'bounding_box': [257, 426, 381, 450], 'confidence': 0.9}, {'word_id': 'word_1_39', 'text': '2323', 'string_index': 161, 'bounding_box': [402, 422, 497, 452], 'confidence': 0.95}, {'word_id': 'word_1_40', 'text': 'W', 'string_index': 166, 'bounding_box': [526, 422, 564, 452], 'confidence': 0.92}, {'word_id': 'word_1_41', 'text': 'LLOMBY', 'string_index': 168, 'bounding_box': [578, 421, 727, 452], 'confidence': 0.48}, {'word_id': 'word_1_42', 'text': 'DR__HOUSTON,', 'string_index': 175, 'bounding_box': [753, 421, 1033, 457], 'confidence': 0.17}, {'word_id': 'word_1_43', 'text': 'TX', 'string_index': 188, 'bounding_box': [1076, 422, 1127, 452], 'confidence': 0.91}, {'word_id': 'word_1_44', 'text': '77008', 'string_index': 191, 'bounding_box': [1152, 422, 1272, 452], 'confidence': 0.96}, {'word_id': 'word_1_45', 'text': 'Property', 'string_index': 197, 'bounding_box': [117, 466, 244, 495], 'confidence': 0.9}, {'word_id': 'word_1_46', 'text': 'Type', 'string_index': 206, 'bounding_box': [257, 466, 330, 495], 'confidence': 0.92}, {'word_id': 'word_1_47', 'text': 'Project', 'string_index': 211, 'bounding_box': [582, 466, 686, 495], 'confidence': 0.91}, {'word_id': 'word_1_48', 'text': 'Classification', 'string_index': 219, 'bounding_box': [700, 466, 901, 490], 'confidence': 0.89}, {'word_id': 'word_1_49', 'text': 'Occupancy', 'string_index': 234, 'bounding_box': [1677, 466, 1846, 495], 'confidence': 0.9}, {'word_id': 'word_1_50', 'text': 'Status', 'string_index': 244, 'bounding_box': [1860, 466, 1956, 490], 'confidence': 0.91}, {'word_id': 'word_1_51', 'text': '1', 'string_index': 251, 'bounding_box': [210, 526, 218, 549], 'confidence': 0.91}, {'word_id': 'word_1_52', 'text': 'unit', 'string_index': 253, 'bounding_box': [239, 526, 294, 550], 'confidence': 0.9}, {'word_id': 'word_1_53', 'text': 'Freddie', 'string_index': 258, 'bounding_box': [566, 502, 697, 560], 'confidence': 0.91}, {'word_id': 'word_1_54', 'text': 'Mac', 'string_index': 266, 'bounding_box': [696, 502, 775, 560], 'confidence': 0.9}, {'word_id': 'word_1_55', 'text': 'Fannie', 'string_index': 270, 'bounding_box': [951, 502, 1078, 560], 'confidence': 0.92}, {'word_id': 'word_1_56', 'text': 'Mae', 'string_index': 277, 'bounding_box': [1077, 502, 1150, 560], 'confidence': 0.93}, {'word_id': 'word_1_57', 'text': 'Primary', 'string_index': 281, 'bounding_box': [1768, 526, 1881, 556], 'confidence': 0.91}, {'word_id': 'word_1_58', 'text': 'Residence', 'string_index': 289, 'bounding_box': [1896, 526, 2048, 550], 'confidence': 0.91}, {'word_id': 'word_1_59', 'text': 'I:ISecond', 'string_index': 299, 'bounding_box': [2139, 507, 2321, 552], 'confidence': 0.74}, {'word_id': 'word_1_60', 'text': 'Home', 'string_index': 309, 'bounding_box': [2338, 526, 2423, 550], 'confidence': 0.89}, {'word_id': 'word_1_61', 'text': '2-', 'string_index': 314, 'bounding_box': [208, 576, 235, 599], 'confidence': 0.84}, {'word_id': 'word_1_62', 'text': 'to', 'string_index': 317, 'bounding_box': [249, 579, 277, 600], 'confidence': 0.84}, {'word_id': 'word_1_63', 'text': '4-units', 'string_index': 320, 'bounding_box': [291, 576, 395, 600], 'confidence': 0.91}, {'word_id': 'word_1_64', 'text': 'I:I', 'string_index': 328, 'bounding_box': [579, 557, 641, 602], 'confidence': 0.74}, {'word_id': 'word_1_65', 'text': 'Streamlined', 'string_index': 332, 'bounding_box': [657, 572, 831, 610], 'confidence': 0.9}, {'word_id': 'word_1_66', 'text': 'Reviewl:l', 'string_index': 344, 'bounding_box': [852, 557, 1031, 602], 'confidence': 0.74}, {'word_id': 'word_1_67', 'text': 'P', 'string_index': 354, 'bounding_box': [1048, 576, 1064, 599], 'confidence': 0.91}, {'word_id': 'word_1_68', 'text': 'Limited', 'string_index': 356, 'bounding_box': [1079, 576, 1185, 600], 'confidence': 0.9}, {'word_id': 'word_1_69', 'text': 'Review', 'string_index': 364, 'bounding_box': [1202, 576, 1310, 600], 'confidence': 0.92}, {'word_id': 'word_1_70', 'text': 'New', 'string_index': 371, 'bounding_box': [1326, 576, 1392, 600], 'confidence': 0.89}, {'word_id': 'word_1_71', 'text': 'I:I', 'string_index': 375, 'bounding_box': [1449, 557, 1511, 602], 'confidence': 0.74}, {'word_id': 'word_1_72', 'text': 'E', 'string_index': 379, 'bounding_box': [1528, 576, 1543, 599], 'confidence': 0.92}, {'word_id': 'word_1_73', 'text': 'PUD', 'string_index': 381, 'bounding_box': [1558, 576, 1621, 600], 'confidence': 0.88}, {'word_id': 'word_1_74', 'text': 'I:I', 'string_index': 385, 'bounding_box': [1689, 557, 1751, 602], 'confidence': 0.74}, {'word_id': 'word_1_75', 'text': 'Investment', 'string_index': 389, 'bounding_box': [1768, 576, 1935, 600], 'confidence': 0.9}, {'word_id': 'word_1_76', 'text': 'Property', 'string_index': 400, 'bounding_box': [1950, 576, 2076, 606], 'confidence': 0.92}, {'word_id': 'word_1_77', 'text': 'Condominium', 'string_index': 409, 'bounding_box': [207, 622, 413, 660], 'confidence': 0.9}, {'word_id': 'word_1_78', 'text': 'I:I', 'string_index': 421, 'bounding_box': [579, 607, 641, 652], 'confidence': 0.74}, {'word_id': 'word_1_79', 'text': 'Established', 'string_index': 425, 'bounding_box': [658, 626, 826, 650], 'confidence': 0.91}, {'word_id': 'word_1_80', 'text': 'Project', 'string_index': 437, 'bounding_box': [843, 626, 946, 655], 'confidence': 0.91}, {'word_id': 'word_1_81', 'text': 'I:I', 'string_index': 445, 'bounding_box': [969, 607, 1031, 652], 'confidence': 0.74}, {'word_id': 'word_1_82', 'text': 'Q', 'string_index': 449, 'bounding_box': [1047, 626, 1070, 650], 'confidence': 0.91}, {'word_id': 'word_1_83', 'text': 'Limited', 'string_index': 451, 'bounding_box': [1085, 626, 1191, 650], 'confidence': 0.9}, {'word_id': 'word_1_84', 'text': 'Review', 'string_index': 459, 'bounding_box': [1208, 626, 1316, 650], 'confidence': 0.91}, {'word_id': 'word_1_85', 'text': 'Est.', 'string_index': 466, 'bounding_box': [1332, 626, 1384, 650], 'confidence': 0.92}, {'word_id': 'word_1_86', 'text': 'I:I', 'string_index': 471, 'bounding_box': [1449, 607, 1511, 652], 'confidence': 0.74}, {'word_id': 'word_1_87', 'text': 'F', 'string_index': 475, 'bounding_box': [1528, 626, 1542, 649], 'confidence': 0.8}, {'word_id': 'word_1_88', 'text': 'PUD', 'string_index': 477, 'bounding_box': [1557, 626, 1620, 650], 'confidence': 0.75}, {'word_id': 'word_1_89', 'text': 'Additional', 'string_index': 481, 'bounding_box': [1676, 626, 1828, 650], 'confidence': 0.5}, {'word_id': 'word_1_90', 'text': 'Property', 'string_index': 492, 'bounding_box': [1843, 626, 1970, 655], 'confidence': 0.92}, {'word_id': 'word_1_91', 'text': 'Information', 'string_index': 501, 'bounding_box': [1984, 626, 2156, 650], 'confidence': 0.91}, {'word_id': 'word_1_92', 'text': 'I:I', 'string_index': 513, 'bounding_box': [129, 657, 191, 702], 'confidence': 0.74}, {'word_id': 'word_1_93', 'text': 'PUD', 'string_index': 517, 'bounding_box': [208, 676, 271, 700], 'confidence': 0.91}, {'word_id': 'word_1_94', 'text': 'I:I', 'string_index': 521, 'bounding_box': [309, 657, 371, 702], 'confidence': 0.74}, {'word_id': 'word_1_95', 'text': 'Co-op', 'string_index': 525, 'bounding_box': [387, 672, 474, 710], 'confidence': 0.91}, {'word_id': 'word_1_96', 'text': 'I:I', 'string_index': 531, 'bounding_box': [579, 657, 641, 702], 'confidence': 0.74}, {'word_id': 'word_1_97', 'text': 'New', 'string_index': 535, 'bounding_box': [658, 676, 724, 700], 'confidence': 0.9}, {'word_id': 'word_1_98', 'text': 'Project', 'string_index': 539, 'bounding_box': [740, 676, 843, 705], 'confidence': 0.92}, {'word_id': 'word_1_99', 'text': 'I:I', 'string_index': 547, 'bounding_box': [969, 657, 1031, 702], 'confidence': 0.74}, {'word_id': 'word_1_100', 'text': 'R', 'string_index': 551, 'bounding_box': [1048, 676, 1065, 699], 'confidence': 0.93}, {'word_id': 'word_1_101', 'text': 'Expedited', 'string_index': 553, 'bounding_box': [1081, 676, 1225, 705], 'confidence': 0.91}, {'word_id': 'word_1_102', 'text': 'New', 'string_index': 563, 'bounding_box': [1242, 676, 1308, 700], 'confidence': 0.89}, {'word_id': 'word_1_103', 'text': 'I:I', 'string_index': 567, 'bounding_box': [1449, 657, 1511, 702], 'confidence': 0.74}, {'word_id': 'word_1_104', 'text': 'T', 'string_index': 571, 'bounding_box': [1526, 676, 1545, 699], 'confidence': 0.64}, {'word_id': 'word_1_105', 'text': 'PUD', 'string_index': 573, 'bounding_box': [1560, 676, 1623, 700], 'confidence': 0.64}, {'word_id': 'word_1_106', 'text': 'Number', 'string_index': 577, 'bounding_box': [1678, 676, 1795, 700], 'confidence': 0.58}, {'word_id': 'word_1_107', 'text': 'of', 'string_index': 584, 'bounding_box': [1809, 676, 1837, 700], 'confidence': 0.89}, {'word_id': 'word_1_108', 'text': 'Units', 'string_index': 587, 'bounding_box': [1852, 676, 1927, 700], 'confidence': 0.89}, {'word_id': 'word_1_109', 'text': '1', 'string_index': 593, 'bounding_box': [1995, 672, 2007, 702], 'confidence': 0.96}, {'word_id': 'word_1_110', 'text': 'Manufactured', 'string_index': 595, 'bounding_box': [208, 726, 416, 750], 'confidence': 0.92}, {'word_id': 'word_1_111', 'text': 'Housing', 'string_index': 608, 'bounding_box': [433, 726, 552, 756], 'confidence': 0.89}, {'word_id': 'word_1_112', 'text': 'I:I', 'string_index': 616, 'bounding_box': [579, 707, 641, 752], 'confidence': 0.74}, {'word_id': 'word_1_113', 'text': 'Detached', 'string_index': 620, 'bounding_box': [658, 726, 798, 750], 'confidence': 0.91}, {'word_id': 'word_1_114', 'text': 'Project', 'string_index': 629, 'bounding_box': [815, 726, 918, 755], 'confidence': 0.89}, {'word_id': 'word_1_115', 'text': 'I:I', 'string_index': 637, 'bounding_box': [969, 707, 1031, 752], 'confidence': 0.74}, {'word_id': 'word_1_116', 'text': 'S', 'string_index': 641, 'bounding_box': [1047, 726, 1065, 750], 'confidence': 0.93}, {'word_id': 'word_1_117', 'text': 'Expedited', 'string_index': 643, 'bounding_box': [1081, 726, 1225, 755], 'confidence': 0.92}, {'word_id': 'word_1_118', 'text': 'Est.', 'string_index': 653, 'bounding_box': [1242, 726, 1294, 750], 'confidence': 0.9}, {'word_id': 'word_1_119', 'text': 'I:I', 'string_index': 658, 'bounding_box': [1449, 707, 1511, 752], 'confidence': 0.74}, {'word_id': 'word_1_120', 'text': '1', 'string_index': 662, 'bounding_box': [1530, 726, 1538, 749], 'confidence': 0.93}, {'word_id': 'word_1_121', 'text': 'Co-op', 'string_index': 664, 'bounding_box': [1559, 726, 1646, 755], 'confidence': 0.9}, {'word_id': 'word_1_122', 'text': 'Sales', 'string_index': 670, 'bounding_box': [1677, 726, 1756, 750], 'confidence': 0.91}, {'word_id': 'word_1_123', 'text': 'Price', 'string_index': 676, 'bounding_box': [1772, 726, 1843, 750], 'confidence': 0.92}, {'word_id': 'word_1_124', 'text': '$', 'string_index': 682, 'bounding_box': [1994, 725, 2008, 750], 'confidence': 0.9}, {'word_id': 'word_1_125', 'text': 'l:l', 'string_index': 684, 'bounding_box': [219, 761, 281, 802], 'confidence': 0.74}, {'word_id': 'word_1_126', 'text': 'Single', 'string_index': 688, 'bounding_box': [297, 776, 387, 806], 'confidence': 0.91}, {'word_id': 'word_1_127', 'text': 'Wide', 'string_index': 695, 'bounding_box': [401, 776, 476, 800], 'confidence': 0.91}, {'word_id': 'word_1_128', 'text': 'I:I', 'string_index': 700, 'bounding_box': [579, 757, 641, 802], 'confidence': 0.74}, {'word_id': 'word_1_129', 'text': '2-', 'string_index': 704, 'bounding_box': [658, 776, 685, 799], 'confidence': 0.86}, {'word_id': 'word_1_130', 'text': 'to', 'string_index': 707, 'bounding_box': [699, 779, 727, 800], 'confidence': 0.86}, {'word_id': 'word_1_131', 'text': '4-unit', 'string_index': 710, 'bounding_box': [741, 776, 829, 800], 'confidence': 0.9}, {'word_id': 'word_1_132', 'text': 'Project', 'string_index': 717, 'bounding_box': [844, 776, 947, 805], 'confidence': 0.91}, {'word_id': 'word_1_133', 'text': 'I:I', 'string_index': 725, 'bounding_box': [969, 757, 1031, 802], 'confidence': 0.74}, {'word_id': 'word_1_134', 'text': 'T', 'string_index': 729, 'bounding_box': [1046, 776, 1065, 799], 'confidence': 0.92}, {'word_id': 'word_1_135', 'text': 'Fannie', 'string_index': 731, 'bounding_box': [1080, 776, 1175, 800], 'confidence': 0.92}, {'word_id': 'word_1_136', 'text': 'Mae', 'string_index': 738, 'bounding_box': [1191, 776, 1252, 800], 'confidence': 0.92}, {'word_id': 'word_1_137', 'text': 'Review', 'string_index': 742, 'bounding_box': [1268, 776, 1376, 800], 'confidence': 0.9}, {'word_id': 'word_1_138', 'text': 'I:I', 'string_index': 749, 'bounding_box': [1449, 757, 1511, 802], 'confidence': 0.74}, {'word_id': 'word_1_139', 'text': '2', 'string_index': 753, 'bounding_box': [1528, 776, 1544, 799], 'confidence': 0.92}, {'word_id': 'word_1_140', 'text': 'Co-op', 'string_index': 755, 'bounding_box': [1559, 776, 1646, 805], 'confidence': 0.91}, {'word_id': 'word_1_141', 'text': 'Appraised', 'string_index': 761, 'bounding_box': [1676, 776, 1827, 805], 'confidence': 0.91}, {'word_id': 'word_1_142', 'text': 'Value', 'string_index': 771, 'bounding_box': [1842, 776, 1926, 800], 'confidence': 0.91}, {'word_id': 'word_1_143', 'text': '$', 'string_index': 777, 'bounding_box': [1994, 775, 2008, 800], 'confidence': 0.91}, {'word_id': 'word_1_144', 'text': '297,', 'string_index': 779, 'bounding_box': [2180, 773, 2250, 803], 'confidence': 0.91}, {'word_id': 'word_1_145', 'text': '000.', 'string_index': 784, 'bounding_box': [2280, 773, 2361, 803], 'confidence': 0.91}, {'word_id': 'word_1_146', 'text': '00', 'string_index': 789, 'bounding_box': [2380, 773, 2425, 803], 'confidence': 0.96}, {'word_id': 'word_1_147', 'text': 'l:l', 'string_index': 792, 'bounding_box': [219, 811, 281, 852], 'confidence': 0.74}, {'word_id': 'word_1_148', 'text': 'Multiwide', 'string_index': 796, 'bounding_box': [298, 822, 444, 859], 'confidence': 0.85}, {'word_id': 'word_1_149', 'text': 'I:I', 'string_index': 806, 'bounding_box': [579, 807, 641, 852], 'confidence': 0.74}, {'word_id': 'word_1_150', 'text': 'Reciprocal', 'string_index': 810, 'bounding_box': [658, 826, 812, 855], 'confidence': 0.92}, {'word_id': 'word_1_151', 'text': 'Review', 'string_index': 821, 'bounding_box': [829, 826, 937, 850], 'confidence': 0.9}, {'word_id': 'word_1_152', 'text': 'I:I', 'string_index': 828, 'bounding_box': [969, 807, 1031, 852], 'confidence': 0.74}, {'word_id': 'word_1_153', 'text': 'U', 'string_index': 832, 'bounding_box': [1048, 826, 1066, 850], 'confidence': 0.92}, {'word_id': 'word_1_154', 'text': 'FHA-approved', 'string_index': 834, 'bounding_box': [1083, 826, 1297, 855], 'confidence': 0.9}, {'word_id': 'word_1_155', 'text': 'I:I', 'string_index': 847, 'bounding_box': [1449, 807, 1511, 852], 'confidence': 0.74}, {'word_id': 'word_1_156', 'text': 'T', 'string_index': 851, 'bounding_box': [1526, 826, 1545, 849], 'confidence': 0.93}, {'word_id': 'word_1_157', 'text': 'Co-op', 'string_index': 853, 'bounding_box': [1559, 826, 1646, 855], 'confidence': 0.76}, {'word_id': 'word_1_158', 'text': 'V', 'string_index': 859, 'bounding_box': [1046, 876, 1068, 899], 'confidence': 0.87}, {'word_id': 'word_1_159', 'text': 'Refi', 'string_index': 861, 'bounding_box': [1083, 876, 1138, 900], 'confidence': 0.89}, {'word_id': 'word_1_160', 'text': 'Plus', 'string_index': 866, 'bounding_box': [1154, 876, 1213, 900], 'confidence': 0.91}, {'word_id': 'word_1_161', 'text': '™', 'string_index': 871, 'bounding_box': [1223, 875, 1246, 887], 'confidence': 0.96}, {'word_id': 'word_1_162', 'text': 'CPM', 'string_index': 873, 'bounding_box': [1392, 876, 1460, 900], 'confidence': 0.92}, {'word_id': 'word_1_163', 'text': 'Project', 'string_index': 877, 'bounding_box': [1477, 876, 1580, 905], 'confidence': 0.91}, {'word_id': 'word_1_164', 'text': 'ID#', 'string_index': 885, 'bounding_box': [1595, 876, 1645, 900], 'confidence': 0.9}, {'word_id': 'word_1_165', 'text': 'if', 'string_index': 889, 'bounding_box': [1660, 876, 1687, 902], 'confidence': 0.91}, {'word_id': 'word_1_166', 'text': 'any', 'string_index': 892, 'bounding_box': [1701, 876, 1762, 906], 'confidence': 0.91}, {'word_id': 'word_1_167', 'text': 'Project', 'string_index': 896, 'bounding_box': [553, 926, 656, 955], 'confidence': 0.91}, {'word_id': 'word_1_168', 'text': 'Name', 'string_index': 904, 'bounding_box': [671, 926, 755, 950], 'confidence': 0.91}, {'word_id': 'word_1_169', 'text': 'Property', 'string_index': 909, 'bounding_box': [1677, 926, 1804, 955], 'confidence': 0.9}, {'word_id': 'word_1_170', 'text': 'Rights', 'string_index': 918, 'bounding_box': [1818, 926, 1911, 956], 'confidence': 0.9}, {'word_id': 'word_1_171', 'text': 'Fee', 'string_index': 925, 'bounding_box': [2008, 926, 2057, 950], 'confidence': 0.92}, {'word_id': 'word_1_172', 'text': 'Simple', 'string_index': 929, 'bounding_box': [2072, 926, 2172, 955], 'confidence': 0.92}, {'word_id': 'word_1_173', 'text': '|:|', 'string_index': 936, 'bounding_box': [2199, 914, 2261, 952], 'confidence': 0.75}, {'word_id': 'word_1_174', 'text': 'Leasehold', 'string_index': 940, 'bounding_box': [2274, 926, 2422, 950], 'confidence': 0.88}, {'word_id': 'word_1_175', 'text': 'Il.', 'string_index': 950, 'bounding_box': [125, 978, 156, 1007], 'confidence': 0.61}, {'word_id': 'word_1_176', 'text': 'Mortgage', 'string_index': 954, 'bounding_box': [177, 978, 357, 1018], 'confidence': 0.91}, {'word_id': 'word_1_177', 'text': 'Information', 'string_index': 963, 'bounding_box': [375, 978, 590, 1008], 'confidence': 0.9}, {'word_id': 'word_1_178', 'text': 'Loan', 'string_index': 975, 'bounding_box': [117, 1023, 187, 1047], 'confidence': 0.92}, {'word_id': 'word_1_179', 'text': 'Type', 'string_index': 980, 'bounding_box': [201, 1023, 274, 1052], 'confidence': 0.92}, {'word_id': 'word_1_180', 'text': 'Amortization', 'string_index': 985, 'bounding_box': [446, 1023, 640, 1047], 'confidence': 0.88}, {'word_id': 'word_1_181', 'text': 'Type', 'string_index': 998, 'bounding_box': [654, 1023, 727, 1052], 'confidence': 0.91}, {'word_id': 'word_1_182', 'text': 'Loan', 'string_index': 1003, 'bounding_box': [1107, 1023, 1177, 1047], 'confidence': 0.91}, {'word_id': 'word_1_183', 'text': 'Purpose', 'string_index': 1008, 'bounding_box': [1192, 1023, 1312, 1052], 'confidence': 0.9}, {'word_id': 'word_1_184', 'text': 'Lien', 'string_index': 1016, 'bounding_box': [1797, 1023, 1856, 1047], 'confidence': 0.92}, {'word_id': 'word_1_185', 'text': 'Position', 'string_index': 1021, 'bounding_box': [1871, 1023, 1989, 1047], 'confidence': 0.92}, {'word_id': 'word_1_186', 'text': 'Conventional', 'string_index': 1030, 'bounding_box': [207, 1072, 402, 1110], 'confidence': 0.9}, {'word_id': 'word_1_187', 'text': 'Fixed-Rate_Monthly', 'string_index': 1043, 'bounding_box': [538, 1076, 854, 1106], 'confidence': 0.46}, {'word_id': 'word_1_188', 'text': 'Payments', 'string_index': 1062, 'bounding_box': [869, 1076, 1015, 1106], 'confidence': 0.91}, {'word_id': 'word_1_189', 'text': 'I:I', 'string_index': 1071, 'bounding_box': [1119, 1057, 1181, 1102], 'confidence': 0.74}, {'word_id': 'word_1_190', 'text': 'Purchase', 'string_index': 1075, 'bounding_box': [1198, 1072, 1334, 1110], 'confidence': 0.91}, {'word_id': 'word_1_191', 'text': 'First', 'string_index': 1084, 'bounding_box': [1888, 1076, 1951, 1100], 'confidence': 0.92}, {'word_id': 'word_1_192', 'text': 'Mortgage', 'string_index': 1090, 'bounding_box': [1966, 1076, 2108, 1106], 'confidence': 0.92}, {'word_id': 'word_1_193', 'text': 'I:I', 'string_index': 1099, 'bounding_box': [129, 1107, 191, 1152], 'confidence': 0.74}, {'word_id': 'word_1_194', 'text': 'FHA', 'string_index': 1103, 'bounding_box': [208, 1126, 266, 1149], 'confidence': 0.91}, {'word_id': 'word_1_195', 'text': 'I:I', 'string_index': 1107, 'bounding_box': [459, 1107, 521, 1152], 'confidence': 0.74}, {'word_id': 'word_1_196', 'text': 'Fixed-Rate—Biweekly', 'string_index': 1111, 'bounding_box': [538, 1126, 867, 1156], 'confidence': 0.48}, {'word_id': 'word_1_197', 'text': 'Payments', 'string_index': 1131, 'bounding_box': [882, 1126, 1028, 1156], 'confidence': 0.9}, {'word_id': 'word_1_198', 'text': 'Cash-Out', 'string_index': 1140, 'bounding_box': [1197, 1126, 1338, 1150], 'confidence': 0.9}, {'word_id': 'word_1_199', 'text': 'Refinance', 'string_index': 1149, 'bounding_box': [1353, 1126, 1500, 1150], 'confidence': 0.92}, {'word_id': 'word_1_200', 'text': 'Amount', 'string_index': 1159, 'bounding_box': [1796, 1126, 1917, 1150], 'confidence': 0.89}, {'word_id': 'word_1_201', 'text': 'of', 'string_index': 1166, 'bounding_box': [1931, 1126, 1959, 1150], 'confidence': 0.91}, {'word_id': 'word_1_202', 'text': 'Subordinate', 'string_index': 1169, 'bounding_box': [1973, 1126, 2154, 1150], 'confidence': 0.9}, {'word_id': 'word_1_203', 'text': 'Financing', 'string_index': 1181, 'bounding_box': [2170, 1126, 2310, 1156], 'confidence': 0.91}, {'word_id': 'word_1_204', 'text': 'VA', 'string_index': 1191, 'bounding_box': [206, 1176, 251, 1199], 'confidence': 0.96}, {'word_id': 'word_1_205', 'text': 'I:I', 'string_index': 1194, 'bounding_box': [459, 1157, 521, 1202], 'confidence': 0.74}, {'word_id': 'word_1_206', 'text': 'Balloon', 'string_index': 1198, 'bounding_box': [538, 1171, 642, 1210], 'confidence': 0.9}, {'word_id': 'word_1_207', 'text': 'I:I', 'string_index': 1206, 'bounding_box': [1119, 1157, 1181, 1202], 'confidence': 0.74}, {'word_id': 'word_1_208', 'text': 'Limited', 'string_index': 1210, 'bounding_box': [1198, 1176, 1304, 1200], 'confidence': 0.9}, {'word_id': 'word_1_209', 'text': 'Cash-Out', 'string_index': 1218, 'bounding_box': [1320, 1176, 1461, 1200], 'confidence': 0.9}, {'word_id': 'word_1_210', 'text': 'Refinance', 'string_index': 1227, 'bounding_box': [1476, 1176, 1623, 1200], 'confidence': 0.9}, {'word_id': 'word_1_211', 'text': 'Fannie', 'string_index': 1237, 'bounding_box': [1639, 1176, 1755, 1202], 'confidence': 0.73}, {'word_id': 'word_1_212', 'text': '$', 'string_index': 1244, 'bounding_box': [1799, 1175, 1813, 1200], 'confidence': 0.73}, {'word_id': 'word_1_213', 'text': 'l:l', 'string_index': 1246, 'bounding_box': [129, 1207, 191, 1252], 'confidence': 0.75}, {'word_id': 'word_1_214', 'text': 'USDA/RHS', 'string_index': 1250, 'bounding_box': [208, 1226, 375, 1251], 'confidence': 0.92}, {'word_id': 'word_1_215', 'text': 'l:l', 'string_index': 1259, 'bounding_box': [459, 1207, 521, 1252], 'confidence': 0.75}, {'word_id': 'word_1_216', 'text': 'ARM', 'string_index': 1263, 'bounding_box': [536, 1226, 609, 1249], 'confidence': 0.89}, {'word_id': 'word_1_217', 'text': 'type', 'string_index': 1267, 'bounding_box': [626, 1226, 709, 1256], 'confidence': 0.85}, {'word_id': 'word_1_218', 'text': 'l:l', 'string_index': 1272, 'bounding_box': [1119, 1207, 1181, 1252], 'confidence': 0.75}, {'word_id': 'word_1_219', 'text': 'No', 'string_index': 1276, 'bounding_box': [1198, 1226, 1236, 1250], 'confidence': 0.92}, {'word_id': 'word_1_220', 'text': 'Cash-Out', 'string_index': 1279, 'bounding_box': [1251, 1226, 1392, 1250], 'confidence': 0.88}, {'word_id': 'word_1_221', 'text': 'Refinance', 'string_index': 1288, 'bounding_box': [1407, 1226, 1554, 1250], 'confidence': 0.9}, {'word_id': 'word_1_222', 'text': 'Freddie', 'string_index': 1298, 'bounding_box': [1570, 1226, 1698, 1252], 'confidence': 0.92}, {'word_id': 'word_1_223', 'text': 'If', 'string_index': 1306, 'bounding_box': [1798, 1234, 1823, 1257], 'confidence': 0.89}, {'word_id': 'word_1_224', 'text': 'HELOC,', 'string_index': 1309, 'bounding_box': [1836, 1234, 1937, 1258], 'confidence': 0.91}, {'word_id': 'word_1_225', 'text': 'include', 'string_index': 1316, 'bounding_box': [1952, 1234, 2045, 1255], 'confidence': 0.91}, {'word_id': 'word_1_226', 'text': 'balance', 'string_index': 1324, 'bounding_box': [2059, 1234, 2160, 1255], 'confidence': 0.92}, {'word_id': 'word_1_227', 'text': 'and', 'string_index': 1332, 'bounding_box': [2173, 1234, 2219, 1254], 'confidence': 0.92}, {'word_id': 'word_1_228', 'text': 'credit', 'string_index': 1336, 'bounding_box': [2233, 1234, 2307, 1255], 'confidence': 0.92}, {'word_id': 'word_1_229', 'text': 'limit', 'string_index': 1343, 'bounding_box': [2320, 1234, 2382, 1257], 'confidence': 0.91}, {'word_id': 'word_1_230', 'text': 'Other', 'string_index': 1349, 'bounding_box': [537, 1276, 620, 1300], 'confidence': 0.92}, {'word_id': 'word_1_231', 'text': 'specify', 'string_index': 1355, 'bounding_box': [635, 1276, 761, 1306], 'confidence': 0.9}, {'word_id': 'word_1_232', 'text': 'I:I', 'string_index': 1363, 'bounding_box': [1119, 1257, 1181, 1302], 'confidence': 0.74}, {'word_id': 'word_1_233', 'text': 'Home', 'string_index': 1367, 'bounding_box': [1198, 1276, 1283, 1300], 'confidence': 0.89}, {'word_id': 'word_1_234', 'text': 'Improvement', 'string_index': 1372, 'bounding_box': [1299, 1276, 1497, 1305], 'confidence': 0.9}, {'word_id': 'word_1_235', 'text': 'Second', 'string_index': 1384, 'bounding_box': [1887, 1276, 1997, 1300], 'confidence': 0.92}, {'word_id': 'word_1_236', 'text': 'Mortgage', 'string_index': 1391, 'bounding_box': [2014, 1276, 2156, 1306], 'confidence': 0.92}, {'word_id': 'word_1_237', 'text': 'Construction', 'string_index': 1400, 'bounding_box': [1197, 1326, 1390, 1350], 'confidence': 0.89}, {'word_id': 'word_1_238', 'text': 'to', 'string_index': 1413, 'bounding_box': [1404, 1329, 1432, 1350], 'confidence': 0.92}, {'word_id': 'word_1_239', 'text': 'Permanent', 'string_index': 1416, 'bounding_box': [1448, 1326, 1609, 1350], 'confidence': 0.9}, {'word_id': 'word_1_240', 'text': 'Note', 'string_index': 1426, 'bounding_box': [117, 1366, 186, 1390], 'confidence': 0.9}, {'word_id': 'word_1_241', 'text': 'Information', 'string_index': 1431, 'bounding_box': [201, 1366, 373, 1390], 'confidence': 0.9}, {'word_id': 'word_1_242', 'text': 'Mortgage', 'string_index': 1443, 'bounding_box': [957, 1366, 1100, 1396], 'confidence': 0.91}, {'word_id': 'word_1_243', 'text': 'Originator', 'string_index': 1452, 'bounding_box': [1115, 1366, 1264, 1396], 'confidence': 0.91}, {'word_id': 'word_1_244', 'text': 'Buydown', 'string_index': 1463, 'bounding_box': [1377, 1366, 1516, 1395], 'confidence': 0.91}, {'word_id': 'word_1_245', 'text': 'If', 'string_index': 1471, 'bounding_box': [1797, 1366, 1816, 1389], 'confidence': 0.91}, {'word_id': 'word_1_246', 'text': 'Second', 'string_index': 1474, 'bounding_box': [1829, 1366, 1940, 1390], 'confidence': 0.92}, {'word_id': 'word_1_247', 'text': 'Mortgage', 'string_index': 1481, 'bounding_box': [1955, 1366, 2098, 1396], 'confidence': 0.91}, {'word_id': 'word_1_248', 'text': 'Original', 'string_index': 1490, 'bounding_box': [117, 1426, 229, 1456], 'confidence': 0.9}, {'word_id': 'word_1_249', 'text': 'Loan', 'string_index': 1499, 'bounding_box': [246, 1426, 315, 1450], 'confidence': 0.9}, {'word_id': 'word_1_250', 'text': 'Amount', 'string_index': 1504, 'bounding_box': [329, 1426, 450, 1450], 'confidence': 0.85}, {'word_id': 'word_1_251', 'text': '$', 'string_index': 1511, 'bounding_box': [479, 1425, 493, 1450], 'confidence': 0.85}, {'word_id': 'word_1_252', 'text': '150,', 'string_index': 1513, 'bounding_box': [682, 1422, 749, 1453], 'confidence': 0.91}, {'word_id': 'word_1_253', 'text': '100.', 'string_index': 1518, 'bounding_box': [782, 1422, 861, 1453], 'confidence': 0.91}, {'word_id': 'word_1_254', 'text': '00', 'string_index': 1523, 'bounding_box': [879, 1422, 924, 1453], 'confidence': 0.96}, {'word_id': 'word_1_255', 'text': 'l:l', 'string_index': 1526, 'bounding_box': [969, 1407, 1031, 1452], 'confidence': 0.74}, {'word_id': 'word_1_256', 'text': 'Seller', 'string_index': 1530, 'bounding_box': [1036, 1420, 1130, 1461], 'confidence': 0.93}, {'word_id': 'word_1_257', 'text': 'l:l', 'string_index': 1537, 'bounding_box': [1389, 1407, 1451, 1452], 'confidence': 0.74}, {'word_id': 'word_1_258', 'text': 'Yes', 'string_index': 1541, 'bounding_box': [1466, 1417, 1521, 1458], 'confidence': 0.91}, {'word_id': 'word_1_259', 'text': 'Owner', 'string_index': 1545, 'bounding_box': [1797, 1419, 1897, 1443], 'confidence': 0.9}, {'word_id': 'word_1_260', 'text': 'of', 'string_index': 1551, 'bounding_box': [1911, 1419, 1939, 1443], 'confidence': 0.92}, {'word_id': 'word_1_261', 'text': 'First', 'string_index': 1554, 'bounding_box': [1954, 1419, 2017, 1443], 'confidence': 0.92}, {'word_id': 'word_1_262', 'text': 'Mortgage', 'string_index': 1560, 'bounding_box': [2032, 1419, 2174, 1449], 'confidence': 0.91}, {'word_id': 'word_1_263', 'text': 'Initial', 'string_index': 1569, 'bounding_box': [118, 1476, 194, 1500], 'confidence': 0.92}, {'word_id': 'word_1_264', 'text': 'P&l', 'string_index': 1577, 'bounding_box': [211, 1476, 259, 1500], 'confidence': 0.51}, {'word_id': 'word_1_265', 'text': 'Payment', 'string_index': 1581, 'bounding_box': [276, 1476, 406, 1506], 'confidence': 0.92}, {'word_id': 'word_1_266', 'text': '$', 'string_index': 1589, 'bounding_box': [479, 1475, 493, 1500], 'confidence': 0.91}, {'word_id': 'word_1_267', 'text': '794.', 'string_index': 1591, 'bounding_box': [780, 1472, 861, 1503], 'confidence': 0.88}, {'word_id': 'word_1_268', 'text': '34', 'string_index': 1596, 'bounding_box': [880, 1472, 924, 1503], 'confidence': 0.96}, {'word_id': 'word_1_269', 'text': 'I:I', 'string_index': 1599, 'bounding_box': [969, 1457, 1031, 1502], 'confidence': 0.74}, {'word_id': 'word_1_270', 'text': 'Broker', 'string_index': 1603, 'bounding_box': [1048, 1469, 1142, 1511], 'confidence': 0.92}, {'word_id': 'word_1_271', 'text': 'No', 'string_index': 1610, 'bounding_box': [1468, 1476, 1506, 1500], 'confidence': 0.92}, {'word_id': 'word_1_272', 'text': 'I:I', 'string_index': 1613, 'bounding_box': [1809, 1457, 1871, 1502], 'confidence': 0.74}, {'word_id': 'word_1_273', 'text': 'Fannie', 'string_index': 1617, 'bounding_box': [1888, 1476, 1983, 1500], 'confidence': 0.89}, {'word_id': 'word_1_274', 'text': 'Mae', 'string_index': 1624, 'bounding_box': [1999, 1476, 2060, 1500], 'confidence': 0.91}, {'word_id': 'word_1_275', 'text': 'I:I', 'string_index': 1628, 'bounding_box': [2109, 1457, 2171, 1502], 'confidence': 0.74}, {'word_id': 'word_1_276', 'text': 'Freddie', 'string_index': 1632, 'bounding_box': [2188, 1476, 2295, 1500], 'confidence': 0.92}, {'word_id': 'word_1_277', 'text': 'Mac', 'string_index': 1640, 'bounding_box': [2311, 1476, 2372, 1500], 'confidence': 0.89}, {'word_id': 'word_1_278', 'text': 'Initial', 'string_index': 1644, 'bounding_box': [118, 1526, 194, 1550], 'confidence': 0.93}, {'word_id': 'word_1_279', 'text': 'Note', 'string_index': 1652, 'bounding_box': [211, 1526, 279, 1550], 'confidence': 0.92}, {'word_id': 'word_1_280', 'text': 'Rate', 'string_index': 1657, 'bounding_box': [295, 1526, 360, 1550], 'confidence': 0.92}, {'word_id': 'word_1_281', 'text': '4.', 'string_index': 1662, 'bounding_box': [765, 1522, 797, 1552], 'confidence': 0.5}, {'word_id': 'word_1_282', 'text': '875%', 'string_index': 1665, 'bounding_box': [816, 1522, 922, 1553], 'confidence': 0.5}, {'word_id': 'word_1_283', 'text': 'Correspondent', 'string_index': 1670, 'bounding_box': [1047, 1516, 1270, 1559], 'confidence': 0.91}, {'word_id': 'word_1_284', 'text': 'Terms', 'string_index': 1684, 'bounding_box': [1391, 1516, 1484, 1559], 'confidence': 0.91}, {'word_id': 'word_1_285', 'text': 'I:I', 'string_index': 1690, 'bounding_box': [1809, 1507, 1871, 1552], 'confidence': 0.74}, {'word_id': 'word_1_286', 'text': 'Seller/Other', 'string_index': 1694, 'bounding_box': [1887, 1526, 2067, 1551], 'confidence': 0.91}, {'word_id': 'word_1_287', 'text': 'Loan', 'string_index': 1707, 'bounding_box': [118, 1576, 187, 1600], 'confidence': 0.92}, {'word_id': 'word_1_288', 'text': 'Term', 'string_index': 1712, 'bounding_box': [201, 1576, 277, 1600], 'confidence': 0.92}, {'word_id': 'word_1_289', 'text': 'in', 'string_index': 1717, 'bounding_box': [294, 1576, 327, 1602], 'confidence': 0.91}, {'word_id': 'word_1_290', 'text': 'months', 'string_index': 1720, 'bounding_box': [342, 1576, 463, 1602], 'confidence': 0.91}, {'word_id': 'word_1_291', 'text': '360', 'string_index': 1727, 'bounding_box': [478, 1572, 547, 1602], 'confidence': 0.96}, {'word_id': 'word_1_292', 'text': 'Broker/Correspondent', 'string_index': 1731, 'bounding_box': [973, 1576, 1306, 1605], 'confidence': 0.9}, {'word_id': 'word_1_293', 'text': 'Name', 'string_index': 1752, 'bounding_box': [1321, 1576, 1405, 1600], 'confidence': 0.91}, {'word_id': 'word_1_294', 'text': 'and', 'string_index': 1757, 'bounding_box': [1420, 1576, 1471, 1600], 'confidence': 0.9}, {'word_id': 'word_1_295', 'text': 'Company', 'string_index': 1761, 'bounding_box': [1487, 1576, 1629, 1606], 'confidence': 0.92}, {'word_id': 'word_1_296', 'text': 'Name:', 'string_index': 1769, 'bounding_box': [1644, 1576, 1737, 1600], 'confidence': 0.64}, {'word_id': 'word_1_297', 'text': 'Original', 'string_index': 1775, 'bounding_box': [1797, 1576, 1909, 1606], 'confidence': 0.64}, {'word_id': 'word_1_298', 'text': 'Loan', 'string_index': 1784, 'bounding_box': [1926, 1576, 1995, 1600], 'confidence': 0.9}, {'word_id': 'word_1_299', 'text': 'Amount', 'string_index': 1789, 'bounding_box': [2009, 1576, 2130, 1600], 'confidence': 0.91}, {'word_id': 'word_1_300', 'text': 'of', 'string_index': 1796, 'bounding_box': [2144, 1576, 2172, 1600], 'confidence': 0.91}, {'word_id': 'word_1_301', 'text': 'First', 'string_index': 1799, 'bounding_box': [2187, 1576, 2250, 1600], 'confidence': 0.92}, {'word_id': 'word_1_302', 'text': 'Mortgage', 'string_index': 1805, 'bounding_box': [2265, 1576, 2407, 1606], 'confidence': 0.9}, {'word_id': 'word_1_303', 'text': ',', 'string_index': 1814, 'bounding_box': [975, 1648, 979, 1657], 'confidence': 0.92}, {'word_id': 'word_1_304', 'text': 'Texas', 'string_index': 1816, 'bounding_box': [1022, 1622, 1140, 1652], 'confidence': 0.86}, {'word_id': 'word_1_305', 'text': 'Loan', 'string_index': 1822, 'bounding_box': [1174, 1622, 1266, 1652], 'confidence': 0.9}, {'word_id': 'word_1_306', 'text': 'Star,', 'string_index': 1827, 'bounding_box': [1298, 1621, 1404, 1657], 'confidence': 0.9}, {'word_id': 'word_1_307', 'text': 'Inc.', 'string_index': 1833, 'bounding_box': [1450, 1622, 1529, 1652], 'confidence': 0.36}, {'word_id': 'word_1_308', 'text': '$', 'string_index': 1838, 'bounding_box': [1799, 1625, 1813, 1650], 'confidence': 0.89}, {'word_id': 'word_1_309', 'text': 'lll.', 'string_index': 1840, 'bounding_box': [125, 1679, 168, 1708], 'confidence': 0.14}, {'word_id': 'word_1_310', 'text': 'Underwriting', 'string_index': 1845, 'bounding_box': [189, 1679, 433, 1715], 'confidence': 0.91}, {'word_id': 'word_1_311', 'text': 'Information', 'string_index': 1858, 'bounding_box': [452, 1679, 668, 1709], 'confidence': 0.92}, {'word_id': 'word_1_312', 'text': \"Underwriter's\", 'string_index': 1870, 'bounding_box': [118, 1723, 324, 1747], 'confidence': 0.9}, {'word_id': 'word_1_313', 'text': 'Name', 'string_index': 1884, 'bounding_box': [340, 1723, 424, 1747], 'confidence': 0.9}, {'word_id': 'word_1_314', 'text': \"Appraiser's\", 'string_index': 1889, 'bounding_box': [896, 1723, 1069, 1752], 'confidence': 0.86}, {'word_id': 'word_1_315', 'text': 'Name/License', 'string_index': 1901, 'bounding_box': [1085, 1723, 1296, 1748], 'confidence': 0.91}, {'word_id': 'word_1_316', 'text': '#', 'string_index': 1914, 'bounding_box': [1311, 1723, 1329, 1747], 'confidence': 0.92}, {'word_id': 'word_1_317', 'text': 'Appraisal', 'string_index': 1916, 'bounding_box': [1556, 1723, 1696, 1752], 'confidence': 0.9}, {'word_id': 'word_1_318', 'text': 'Company', 'string_index': 1926, 'bounding_box': [1712, 1723, 1854, 1753], 'confidence': 0.92}, {'word_id': 'word_1_319', 'text': 'Name', 'string_index': 1934, 'bounding_box': [1869, 1723, 1953, 1747], 'confidence': 0.93}, {'word_id': 'word_1_320', 'text': 'M', 'string_index': 1939, 'bounding_box': [120, 1772, 148, 1802], 'confidence': 0.92}, {'word_id': 'word_1_321', 'text': 'chel', 'string_index': 1941, 'bounding_box': [168, 1772, 248, 1803], 'confidence': 0.92}, {'word_id': 'word_1_322', 'text': '|', 'string_index': 1946, 'bounding_box': [269, 1772, 273, 1802], 'confidence': 0.95}, {'word_id': 'word_1_323', 'text': 'e', 'string_index': 1948, 'bounding_box': [293, 1780, 313, 1803], 'confidence': 0.93}, {'word_id': 'word_1_324', 'text': 'Vandervi', 'string_index': 1950, 'bounding_box': [342, 1772, 523, 1803], 'confidence': 0.67}, {'word_id': 'word_1_325', 'text': 'eren', 'string_index': 1959, 'bounding_box': [543, 1780, 637, 1803], 'confidence': 0.89}, {'word_id': 'word_1_326', 'text': 'Andrew', 'string_index': 1964, 'bounding_box': [896, 1772, 1050, 1803], 'confidence': 0.91}, {'word_id': 'word_1_327', 'text': 'Pryzant,', 'string_index': 1971, 'bounding_box': [1074, 1772, 1254, 1811], 'confidence': 0.84}, {'word_id': 'word_1_328', 'text': 'Houst', 'string_index': 1980, 'bounding_box': [1559, 1772, 1667, 1803], 'confidence': 0.8}, {'word_id': 'word_1_329', 'text': 'on', 'string_index': 1986, 'bounding_box': [1683, 1780, 1726, 1803], 'confidence': 0.8}, {'word_id': 'word_1_330', 'text': 'Area', 'string_index': 1989, 'bounding_box': [1756, 1772, 1852, 1803], 'confidence': 0.9}, {'word_id': 'word_1_331', 'text': 'Appraisl', 'string_index': 1994, 'bounding_box': [1881, 1772, 2062, 1808], 'confidence': 0.68}, {'word_id': 'word_1_332', 'text': 'Service', 'string_index': 2003, 'bounding_box': [2108, 1772, 2277, 1803], 'confidence': 0.83}, {'word_id': 'word_1_333', 'text': '12360489', 'string_index': 2011, 'bounding_box': [900, 1822, 1092, 1853], 'confidence': 0.96}, {'word_id': 'word_1_334', 'text': 'Present', 'string_index': 2020, 'bounding_box': [1557, 1826, 1670, 1850], 'confidence': 0.91}, {'word_id': 'word_1_335', 'text': 'Housing', 'string_index': 2028, 'bounding_box': [1684, 1826, 1805, 1856], 'confidence': 0.91}, {'word_id': 'word_1_336', 'text': 'Payment:', 'string_index': 2036, 'bounding_box': [1820, 1826, 1960, 1855], 'confidence': 0.91}, {'word_id': 'word_1_337', 'text': '$', 'string_index': 2045, 'bounding_box': [2060, 1825, 2074, 1850], 'confidence': 0.91}, {'word_id': 'word_1_338', 'text': '298.', 'string_index': 2047, 'bounding_box': [2280, 1822, 2362, 1852], 'confidence': 0.9}, {'word_id': 'word_1_339', 'text': '00', 'string_index': 2052, 'bounding_box': [2380, 1822, 2425, 1852], 'confidence': 0.96}, {'word_id': 'word_1_348', 'text': 'Stable', 'string_index': 2055, 'bounding_box': [117, 1869, 210, 1893], 'confidence': 0.92}, {'word_id': 'word_1_349', 'text': 'Monthly', 'string_index': 2062, 'bounding_box': [225, 1869, 347, 1898], 'confidence': 0.88}, {'word_id': 'word_1_350', 'text': 'Income', 'string_index': 2070, 'bounding_box': [361, 1869, 469, 1893], 'confidence': 0.8}, {'word_id': 'word_1_351', 'text': 'Borrower', 'string_index': 2077, 'bounding_box': [512, 1879, 650, 1920], 'confidence': 0.9}, {'word_id': 'word_1_352', 'text': 'Co-Borrower', 'string_index': 2086, 'bounding_box': [845, 1879, 1036, 1920], 'confidence': 0.91}, {'word_id': 'word_1_353', 'text': 'Total', 'string_index': 2098, 'bounding_box': [1277, 1879, 1351, 1920], 'confidence': 0.92}, {'word_id': 'word_1_354', 'text': 'Proposed', 'string_index': 2104, 'bounding_box': [1557, 1876, 1696, 1905], 'confidence': 0.92}, {'word_id': 'word_1_355', 'text': 'Monthly', 'string_index': 2113, 'bounding_box': [1711, 1876, 1833, 1905], 'confidence': 0.91}, {'word_id': 'word_1_356', 'text': 'Payments', 'string_index': 2121, 'bounding_box': [1847, 1876, 1994, 1905], 'confidence': 0.92}, {'word_id': 'word_1_357', 'text': 'Base', 'string_index': 2130, 'bounding_box': [118, 1926, 187, 1950], 'confidence': 0.92}, {'word_id': 'word_1_358', 'text': 'Income', 'string_index': 2135, 'bounding_box': [203, 1926, 310, 1950], 'confidence': 0.91}, {'word_id': 'word_1_359', 'text': '$', 'string_index': 2142, 'bounding_box': [419, 1925, 433, 1950], 'confidence': 0.92}, {'word_id': 'word_1_360', 'text': '7,272.17', 'string_index': 2144, 'bounding_box': [549, 1922, 744, 1958], 'confidence': 0.82}, {'word_id': 'word_1_361', 'text': '%', 'string_index': 2153, 'bounding_box': [779, 1925, 793, 1950], 'confidence': 0.62}, {'word_id': 'word_1_362', 'text': '$', 'string_index': 2155, 'bounding_box': [1133, 1925, 1147, 1950], 'confidence': 0.92}, {'word_id': 'word_1_363', 'text': '7,272.17', 'string_index': 2157, 'bounding_box': [1284, 1922, 1478, 1958], 'confidence': 0.8}, {'word_id': 'word_1_364', 'text': \"Borrower's\", 'string_index': 2166, 'bounding_box': [1558, 1926, 1723, 1950], 'confidence': 0.89}, {'word_id': 'word_1_365', 'text': 'Primary', 'string_index': 2177, 'bounding_box': [1739, 1926, 1852, 1953], 'confidence': 0.92}, {'word_id': 'word_1_366', 'text': 'Residence', 'string_index': 2185, 'bounding_box': [1867, 1926, 2019, 1950], 'confidence': 0.92}, {'word_id': 'word_1_367', 'text': 'Other', 'string_index': 2195, 'bounding_box': [117, 1976, 200, 2000], 'confidence': 0.93}, {'word_id': 'word_1_368', 'text': 'Income', 'string_index': 2201, 'bounding_box': [215, 1976, 322, 2000], 'confidence': 0.91}, {'word_id': 'word_1_369', 'text': '$', 'string_index': 2208, 'bounding_box': [419, 1975, 433, 2000], 'confidence': 0.89}, {'word_id': 'word_1_370', 'text': '2,705.08', 'string_index': 2210, 'bounding_box': [548, 1972, 743, 2008], 'confidence': 0.92}, {'word_id': 'word_1_371', 'text': 's', 'string_index': 2219, 'bounding_box': [779, 1975, 793, 2000], 'confidence': 0.58}, {'word_id': 'word_1_372', 'text': '$', 'string_index': 2221, 'bounding_box': [1133, 1975, 1147, 2000], 'confidence': 0.9}, {'word_id': 'word_1_373', 'text': '2,705.08', 'string_index': 2223, 'bounding_box': [1283, 1972, 1478, 2008], 'confidence': 0.9}, {'word_id': 'word_1_374', 'text': 'First', 'string_index': 2232, 'bounding_box': [1558, 1976, 1621, 2000], 'confidence': 0.93}, {'word_id': 'word_1_375', 'text': 'Mortgage', 'string_index': 2238, 'bounding_box': [1636, 1976, 1778, 2006], 'confidence': 0.9}, {'word_id': 'word_1_376', 'text': 'P&l', 'string_index': 2247, 'bounding_box': [1794, 1976, 1842, 2000], 'confidence': 0.64}, {'word_id': 'word_1_377', 'text': '$', 'string_index': 2251, 'bounding_box': [2060, 1975, 2074, 2000], 'confidence': 0.91}, {'word_id': 'word_1_378', 'text': '794.', 'string_index': 2253, 'bounding_box': [2280, 1972, 2362, 2003], 'confidence': 0.91}, {'word_id': 'word_1_379', 'text': '34', 'string_index': 2258, 'bounding_box': [2380, 1972, 2425, 2003], 'confidence': 0.96}, {'word_id': 'word_1_380', 'text': 'Positive', 'string_index': 2261, 'bounding_box': [118, 2026, 233, 2050], 'confidence': 0.92}, {'word_id': 'word_1_381', 'text': 'Cash', 'string_index': 2270, 'bounding_box': [248, 2026, 321, 2050], 'confidence': 0.91}, {'word_id': 'word_1_382', 'text': 'Flow', 'string_index': 2275, 'bounding_box': [337, 2026, 406, 2050], 'confidence': 0.91}, {'word_id': 'word_1_383', 'text': '$', 'string_index': 2280, 'bounding_box': [419, 2025, 433, 2050], 'confidence': 0.91}, {'word_id': 'word_1_384', 'text': '$', 'string_index': 2282, 'bounding_box': [779, 2025, 793, 2050], 'confidence': 0.91}, {'word_id': 'word_1_385', 'text': '$', 'string_index': 2284, 'bounding_box': [1133, 2025, 1147, 2050], 'confidence': 0.91}, {'word_id': 'word_1_386', 'text': 'Second', 'string_index': 2286, 'bounding_box': [1557, 2026, 1667, 2050], 'confidence': 0.89}, {'word_id': 'word_1_387', 'text': 'Mortgage', 'string_index': 2293, 'bounding_box': [1684, 2026, 1826, 2056], 'confidence': 0.9}, {'word_id': 'word_1_388', 'text': 'P&l', 'string_index': 2302, 'bounding_box': [1842, 2026, 1890, 2050], 'confidence': 0.94}, {'word_id': 'word_1_389', 'text': '$', 'string_index': 2306, 'bounding_box': [2060, 2025, 2074, 2050], 'confidence': 0.91}, {'word_id': 'word_1_390', 'text': 'subject', 'string_index': 2308, 'bounding_box': [118, 2076, 236, 2105], 'confidence': 0.92}, {'word_id': 'word_1_391', 'text': 'property', 'string_index': 2316, 'bounding_box': [250, 2076, 385, 2106], 'confidence': 0.91}, {'word_id': 'word_1_392', 'text': 'Hazard', 'string_index': 2325, 'bounding_box': [1558, 2076, 1659, 2100], 'confidence': 0.9}, {'word_id': 'word_1_393', 'text': 'Insurance', 'string_index': 2332, 'bounding_box': [1676, 2076, 1820, 2100], 'confidence': 0.92}, {'word_id': 'word_1_394', 'text': '$', 'string_index': 2342, 'bounding_box': [2060, 2075, 2074, 2100], 'confidence': 0.92}, {'word_id': 'word_1_395', 'text': '119.', 'string_index': 2344, 'bounding_box': [2283, 2072, 2362, 2102], 'confidence': 0.88}, {'word_id': 'word_1_396', 'text': '00', 'string_index': 2349, 'bounding_box': [2380, 2072, 2425, 2102], 'confidence': 0.96}, {'word_id': 'word_1_397', 'text': 'Total', 'string_index': 2352, 'bounding_box': [116, 2126, 190, 2150], 'confidence': 0.92}, {'word_id': 'word_1_398', 'text': 'Income', 'string_index': 2358, 'bounding_box': [207, 2126, 314, 2150], 'confidence': 0.92}, {'word_id': 'word_1_399', 'text': '$', 'string_index': 2365, 'bounding_box': [419, 2125, 433, 2150], 'confidence': 0.92}, {'word_id': 'word_1_400', 'text': '9,977.25', 'string_index': 2367, 'bounding_box': [548, 2122, 743, 2157], 'confidence': 0.9}, {'word_id': 'word_1_401', 'text': '3', 'string_index': 2376, 'bounding_box': [779, 2125, 793, 2150], 'confidence': 0.47}, {'word_id': 'word_1_402', 'text': '$', 'string_index': 2378, 'bounding_box': [1133, 2125, 1147, 2150], 'confidence': 0.92}, {'word_id': 'word_1_403', 'text': '9,977.25', 'string_index': 2380, 'bounding_box': [1282, 2122, 1477, 2157], 'confidence': 0.82}, {'word_id': 'word_1_404', 'text': 'Taxes', 'string_index': 2389, 'bounding_box': [1556, 2117, 1645, 2161], 'confidence': 0.91}, {'word_id': 'word_1_405', 'text': '$', 'string_index': 2395, 'bounding_box': [2060, 2125, 2074, 2150], 'confidence': 0.91}, {'word_id': 'word_1_406', 'text': '179.', 'string_index': 2397, 'bounding_box': [2283, 2123, 2362, 2153], 'confidence': 0.92}, {'word_id': 'word_1_407', 'text': '08', 'string_index': 2402, 'bounding_box': [2380, 2123, 2425, 2153], 'confidence': 0.95}, {'word_id': 'word_1_408', 'text': 'Mortgage', 'string_index': 2405, 'bounding_box': [1558, 2176, 1700, 2206], 'confidence': 0.91}, {'word_id': 'word_1_409', 'text': 'Insurance', 'string_index': 2414, 'bounding_box': [1716, 2176, 1860, 2200], 'confidence': 0.91}, {'word_id': 'word_1_410', 'text': '$', 'string_index': 2424, 'bounding_box': [2060, 2175, 2074, 2200], 'confidence': 0.9}, {'word_id': 'word_1_411', 'text': 'Qualifying', 'string_index': 2426, 'bounding_box': [117, 2226, 268, 2256], 'confidence': 0.9}, {'word_id': 'word_1_412', 'text': 'Ratios', 'string_index': 2437, 'bounding_box': [283, 2226, 375, 2250], 'confidence': 0.92}, {'word_id': 'word_1_413', 'text': 'Loan-to-Value', 'string_index': 2444, 'bounding_box': [1032, 2226, 1242, 2250], 'confidence': 0.92}, {'word_id': 'word_1_414', 'text': 'Ratios', 'string_index': 2458, 'bounding_box': [1257, 2226, 1349, 2250], 'confidence': 0.91}, {'word_id': 'word_1_415', 'text': 'HOA', 'string_index': 2465, 'bounding_box': [1558, 2226, 1627, 2250], 'confidence': 0.91}, {'word_id': 'word_1_416', 'text': 'Fees', 'string_index': 2469, 'bounding_box': [1643, 2226, 1709, 2250], 'confidence': 0.91}, {'word_id': 'word_1_417', 'text': '$', 'string_index': 2474, 'bounding_box': [2060, 2225, 2074, 2250], 'confidence': 0.91}, {'word_id': 'word_1_418', 'text': 'Primary', 'string_index': 2476, 'bounding_box': [118, 2276, 231, 2306], 'confidence': 0.92}, {'word_id': 'word_1_419', 'text': 'Housing', 'string_index': 2484, 'bounding_box': [246, 2276, 365, 2306], 'confidence': 0.92}, {'word_id': 'word_1_420', 'text': 'Expense/Income', 'string_index': 2492, 'bounding_box': [382, 2276, 628, 2305], 'confidence': 0.85}, {'word_id': 'word_1_421', 'text': '10.95%', 'string_index': 2507, 'bounding_box': [817, 2272, 967, 2303], 'confidence': 0.83}, {'word_id': 'word_1_422', 'text': 'LTV', 'string_index': 2514, 'bounding_box': [1033, 2276, 1092, 2299], 'confidence': 0.92}, {'word_id': 'word_1_423', 'text': '51.00%', 'string_index': 2518, 'bounding_box': [1323, 2272, 1477, 2303], 'confidence': 0.89}, {'word_id': 'word_1_424', 'text': 'Lease/Ground', 'string_index': 2525, 'bounding_box': [1558, 2276, 1765, 2301], 'confidence': 0.91}, {'word_id': 'word_1_425', 'text': 'Rent', 'string_index': 2538, 'bounding_box': [1782, 2276, 1849, 2300], 'confidence': 0.92}, {'word_id': 'word_1_426', 'text': '$', 'string_index': 2543, 'bounding_box': [2060, 2275, 2074, 2300], 'confidence': 0.91}, {'word_id': 'word_1_427', 'text': 'Total', 'string_index': 2545, 'bounding_box': [116, 2326, 190, 2350], 'confidence': 0.89}, {'word_id': 'word_1_428', 'text': 'Obligations/Income', 'string_index': 2551, 'bounding_box': [206, 2326, 497, 2356], 'confidence': 0.88}, {'word_id': 'word_1_429', 'text': '19.21%', 'string_index': 2570, 'bounding_box': [817, 2322, 967, 2353], 'confidence': 0.76}, {'word_id': 'word_1_430', 'text': 'CLTV/TLTV', 'string_index': 2577, 'bounding_box': [1032, 2326, 1210, 2351], 'confidence': 0.72}, {'word_id': 'word_1_431', 'text': '51.00%', 'string_index': 2587, 'bounding_box': [1323, 2322, 1477, 2353], 'confidence': 0.78}, {'word_id': 'word_1_432', 'text': 'Other', 'string_index': 2594, 'bounding_box': [1545, 2317, 1640, 2360], 'confidence': 0.92}, {'word_id': 'word_1_433', 'text': '$', 'string_index': 2600, 'bounding_box': [2060, 2325, 2074, 2350], 'confidence': 0.92}, {'word_id': 'word_1_434', 'text': 'Debt-to-Housing', 'string_index': 2602, 'bounding_box': [118, 2376, 363, 2406], 'confidence': 0.9}, {'word_id': 'word_1_435', 'text': 'Gap', 'string_index': 2618, 'bounding_box': [379, 2376, 437, 2405], 'confidence': 0.91}, {'word_id': 'word_1_436', 'text': 'Ratio', 'string_index': 2622, 'bounding_box': [453, 2376, 527, 2400], 'confidence': 0.92}, {'word_id': 'word_1_437', 'text': 'Freddie', 'string_index': 2628, 'bounding_box': [543, 2376, 671, 2402], 'confidence': 0.93}, {'word_id': 'word_1_438', 'text': '8.26%', 'string_index': 2636, 'bounding_box': [840, 2372, 967, 2402], 'confidence': 0.89}, {'word_id': 'word_1_439', 'text': 'HCLTV/HTLTV', 'string_index': 2642, 'bounding_box': [1033, 2376, 1257, 2401], 'confidence': 0.66}, {'word_id': 'word_1_440', 'text': '51.00%', 'string_index': 2654, 'bounding_box': [1323, 2372, 1477, 2402], 'confidence': 0.21}, {'word_id': 'word_1_441', 'text': 'Total', 'string_index': 2661, 'bounding_box': [1556, 2376, 1630, 2400], 'confidence': 0.92}, {'word_id': 'word_1_442', 'text': 'Primary', 'string_index': 2667, 'bounding_box': [1647, 2376, 1760, 2406], 'confidence': 0.9}, {'word_id': 'word_1_443', 'text': 'Housing', 'string_index': 2675, 'bounding_box': [1775, 2376, 1894, 2406], 'confidence': 0.91}, {'word_id': 'word_1_444', 'text': 'Expense', 'string_index': 2683, 'bounding_box': [1911, 2376, 2034, 2405], 'confidence': 0.88}, {'word_id': 'word_1_445', 'text': '$', 'string_index': 2691, 'bounding_box': [2060, 2375, 2074, 2400], 'confidence': 0.91}, {'word_id': 'word_1_446', 'text': '1,092.42', 'string_index': 2693, 'bounding_box': [2233, 2372, 2425, 2407], 'confidence': 0.89}, {'word_id': 'word_1_447', 'text': 'Other', 'string_index': 2702, 'bounding_box': [1543, 2422, 1642, 2469], 'confidence': 0.91}, {'word_id': 'word_1_448', 'text': 'Obligations', 'string_index': 2708, 'bounding_box': [1641, 2422, 1826, 2469], 'confidence': 0.91}, {'word_id': 'word_1_449', 'text': 'Qualifying', 'string_index': 2720, 'bounding_box': [117, 2466, 268, 2496], 'confidence': 0.85}, {'word_id': 'word_1_450', 'text': 'Rate', 'string_index': 2731, 'bounding_box': [283, 2466, 349, 2490], 'confidence': 0.89}, {'word_id': 'word_1_451', 'text': 'Level', 'string_index': 2736, 'bounding_box': [1032, 2466, 1108, 2490], 'confidence': 0.91}, {'word_id': 'word_1_452', 'text': 'of', 'string_index': 2742, 'bounding_box': [1122, 2466, 1152, 2490], 'confidence': 0.91}, {'word_id': 'word_1_453', 'text': 'Property', 'string_index': 2745, 'bounding_box': [1165, 2466, 1292, 2495], 'confidence': 0.91}, {'word_id': 'word_1_454', 'text': 'Review', 'string_index': 2754, 'bounding_box': [1306, 2466, 1415, 2490], 'confidence': 0.9}, {'word_id': 'word_1_455', 'text': 'Negative', 'string_index': 2761, 'bounding_box': [1558, 2476, 1688, 2506], 'confidence': 0.91}, {'word_id': 'word_1_456', 'text': 'Cash', 'string_index': 2770, 'bounding_box': [1703, 2476, 1776, 2500], 'confidence': 0.92}, {'word_id': 'word_1_457', 'text': 'Flow', 'string_index': 2775, 'bounding_box': [1792, 2476, 1861, 2500], 'confidence': 0.92}, {'word_id': 'word_1_458', 'text': '$', 'string_index': 2780, 'bounding_box': [2060, 2475, 2074, 2500], 'confidence': 0.78}, {'word_id': 'word_1_459', 'text': 'Note', 'string_index': 2782, 'bounding_box': [208, 2526, 276, 2550], 'confidence': 0.92}, {'word_id': 'word_1_460', 'text': 'Rate', 'string_index': 2787, 'bounding_box': [292, 2526, 357, 2550], 'confidence': 0.92}, {'word_id': 'word_1_461', 'text': '4.875%', 'string_index': 2792, 'bounding_box': [813, 2522, 967, 2553], 'confidence': 0.92}, {'word_id': 'word_1_462', 'text': 'Exterior/Interior', 'string_index': 2799, 'bounding_box': [1108, 2517, 1342, 2560], 'confidence': 0.91}, {'word_id': 'word_1_463', 'text': 'subject', 'string_index': 2817, 'bounding_box': [1558, 2526, 1676, 2555], 'confidence': 0.92}, {'word_id': 'word_1_464', 'text': 'property', 'string_index': 2825, 'bounding_box': [1690, 2526, 1825, 2556], 'confidence': 0.92}, {'word_id': 'word_1_465', 'text': '[', 'string_index': 2834, 'bounding_box': [115, 2553, 155, 2612], 'confidence': 0.2}, {'word_id': 'word_1_466', 'text': ']', 'string_index': 2836, 'bounding_box': [154, 2557, 191, 2602], 'confidence': 0.2}, {'word_id': 'word_1_467', 'text': '%', 'string_index': 2838, 'bounding_box': [371, 2575, 397, 2600], 'confidence': 0.93}, {'word_id': 'word_1_468', 'text': 'Above', 'string_index': 2840, 'bounding_box': [412, 2576, 508, 2600], 'confidence': 0.92}, {'word_id': 'word_1_469', 'text': 'Note', 'string_index': 2846, 'bounding_box': [524, 2576, 592, 2600], 'confidence': 0.92}, {'word_id': 'word_1_470', 'text': 'Rate', 'string_index': 2851, 'bounding_box': [608, 2576, 673, 2600], 'confidence': 0.92}, {'word_id': 'word_1_471', 'text': '%', 'string_index': 2856, 'bounding_box': [941, 2575, 967, 2600], 'confidence': 0.91}, {'word_id': 'word_1_472', 'text': '||', 'string_index': 2858, 'bounding_box': [1029, 2557, 1091, 2602], 'confidence': 0.6}, {'word_id': 'word_1_473', 'text': 'Exterior', 'string_index': 2861, 'bounding_box': [1108, 2576, 1222, 2600], 'confidence': 0.67}, {'word_id': 'word_1_474', 'text': 'Only', 'string_index': 2870, 'bounding_box': [1224, 2566, 1302, 2610], 'confidence': 0.92}, {'word_id': 'word_1_475', 'text': 'All', 'string_index': 2875, 'bounding_box': [1556, 2576, 1593, 2599], 'confidence': 0.91}, {'word_id': 'word_1_476', 'text': 'Other', 'string_index': 2879, 'bounding_box': [1609, 2576, 1692, 2600], 'confidence': 0.92}, {'word_id': 'word_1_477', 'text': 'Monthly', 'string_index': 2885, 'bounding_box': [1707, 2576, 1828, 2606], 'confidence': 0.92}, {'word_id': 'word_1_478', 'text': 'Payments', 'string_index': 2893, 'bounding_box': [1843, 2576, 1989, 2606], 'confidence': 0.57}, {'word_id': 'word_1_479', 'text': '~', 'string_index': 2902, 'bounding_box': [1999, 2566, 2036, 2610], 'confidence': 0.0}, {'word_id': 'word_1_480', 'text': '$', 'string_index': 2904, 'bounding_box': [2060, 2575, 2074, 2600], 'confidence': 0.52}, {'word_id': 'word_1_481', 'text': '824.', 'string_index': 2906, 'bounding_box': [2280, 2572, 2362, 2602], 'confidence': 0.89}, {'word_id': 'word_1_482', 'text': '44', 'string_index': 2911, 'bounding_box': [2379, 2572, 2425, 2602], 'confidence': 0.95}, {'word_id': 'word_1_483', 'text': 'I:I', 'string_index': 2914, 'bounding_box': [129, 2607, 191, 2652], 'confidence': 0.74}, {'word_id': 'word_1_484', 'text': '%', 'string_index': 2918, 'bounding_box': [371, 2625, 397, 2650], 'confidence': 0.93}, {'word_id': 'word_1_485', 'text': 'Below', 'string_index': 2920, 'bounding_box': [414, 2626, 504, 2650], 'confidence': 0.92}, {'word_id': 'word_1_486', 'text': 'Note', 'string_index': 2926, 'bounding_box': [520, 2626, 588, 2650], 'confidence': 0.91}, {'word_id': 'word_1_487', 'text': 'Rate', 'string_index': 2931, 'bounding_box': [604, 2626, 669, 2650], 'confidence': 0.91}, {'word_id': 'word_1_488', 'text': '%', 'string_index': 2936, 'bounding_box': [941, 2625, 967, 2650], 'confidence': 0.96}, {'word_id': 'word_1_489', 'text': 'I:I', 'string_index': 2938, 'bounding_box': [1029, 2607, 1091, 2652], 'confidence': 0.74}, {'word_id': 'word_1_490', 'text': 'No', 'string_index': 2942, 'bounding_box': [1108, 2626, 1146, 2650], 'confidence': 0.91}, {'word_id': 'word_1_491', 'text': 'Appraisal', 'string_index': 2945, 'bounding_box': [1160, 2626, 1300, 2655], 'confidence': 0.87}, {'word_id': 'word_1_492', 'text': 'Total', 'string_index': 2955, 'bounding_box': [1556, 2626, 1630, 2650], 'confidence': 0.91}, {'word_id': 'word_1_493', 'text': 'All', 'string_index': 2961, 'bounding_box': [1645, 2626, 1682, 2649], 'confidence': 0.9}, {'word_id': 'word_1_494', 'text': 'Monthly', 'string_index': 2965, 'bounding_box': [1699, 2626, 1820, 2656], 'confidence': 0.91}, {'word_id': 'word_1_495', 'text': 'Payments', 'string_index': 2973, 'bounding_box': [1835, 2626, 1981, 2656], 'confidence': 0.91}, {'word_id': 'word_1_496', 'text': '$', 'string_index': 2982, 'bounding_box': [2060, 2625, 2074, 2650], 'confidence': 0.92}, {'word_id': 'word_1_497', 'text': '1,916.', 'string_index': 2984, 'bounding_box': [2233, 2622, 2362, 2661], 'confidence': 0.91}, {'word_id': 'word_1_498', 'text': '86', 'string_index': 2991, 'bounding_box': [2380, 2622, 2425, 2653], 'confidence': 0.96}, {'word_id': 'word_1_499', 'text': '[', 'string_index': 2994, 'bounding_box': [115, 2653, 154, 2711], 'confidence': 0.3}, {'word_id': 'word_1_500', 'text': ']', 'string_index': 2996, 'bounding_box': [154, 2657, 191, 2702], 'confidence': 0.3}, {'word_id': 'word_1_501', 'text': 'Bought-Down', 'string_index': 2998, 'bounding_box': [208, 2676, 414, 2706], 'confidence': 0.92}, {'word_id': 'word_1_502', 'text': 'Rate', 'string_index': 3010, 'bounding_box': [430, 2676, 495, 2700], 'confidence': 0.91}, {'word_id': 'word_1_503', 'text': '%', 'string_index': 3015, 'bounding_box': [941, 2675, 967, 2700], 'confidence': 0.71}, {'word_id': 'word_1_504', 'text': 'Form', 'string_index': 3017, 'bounding_box': [1033, 2676, 1105, 2700], 'confidence': 0.69}, {'word_id': 'word_1_505', 'text': 'Number:', 'string_index': 3022, 'bounding_box': [1122, 2676, 1247, 2700], 'confidence': 0.92}, {'word_id': 'word_1_506', 'text': '1004/', 'string_index': 3030, 'bounding_box': [1276, 2671, 1382, 2702], 'confidence': 0.29}, {'word_id': 'word_1_507', 'text': '70', 'string_index': 3036, 'bounding_box': [1398, 2672, 1442, 2702], 'confidence': 0.29}, {'word_id': 'word_1_508', 'text': 'Other', 'string_index': 3039, 'bounding_box': [193, 2722, 290, 2761], 'confidence': 0.92}, {'word_id': 'word_1_509', 'text': '%', 'string_index': 3045, 'bounding_box': [941, 2725, 967, 2750], 'confidence': 0.95}, {'word_id': 'word_1_510', 'text': 'Borrower', 'string_index': 3047, 'bounding_box': [1557, 2726, 1696, 2750], 'confidence': 0.91}, {'word_id': 'word_1_511', 'text': 'Funds', 'string_index': 3056, 'bounding_box': [1710, 2726, 1798, 2750], 'confidence': 0.92}, {'word_id': 'word_1_512', 'text': 'to', 'string_index': 3062, 'bounding_box': [1812, 2729, 1841, 2750], 'confidence': 0.92}, {'word_id': 'word_1_513', 'text': 'Close', 'string_index': 3065, 'bounding_box': [1855, 2726, 1936, 2750], 'confidence': 0.91}, {'word_id': 'word_1_514', 'text': 'Required', 'string_index': 3071, 'bounding_box': [1558, 2766, 1686, 2810], 'confidence': 0.93}, {'word_id': 'word_1_515', 'text': '$', 'string_index': 3080, 'bounding_box': [2060, 2775, 2074, 2800], 'confidence': 0.92}, {'word_id': 'word_1_516', 'text': '0.00', 'string_index': 3082, 'bounding_box': [2330, 2772, 2425, 2802], 'confidence': 0.91}, {'word_id': 'word_1_517', 'text': 'Risk', 'string_index': 3087, 'bounding_box': [117, 2816, 178, 2840], 'confidence': 0.91}, {'word_id': 'word_1_518', 'text': 'Assessment', 'string_index': 3092, 'bounding_box': [192, 2816, 379, 2840], 'confidence': 0.92}, {'word_id': 'word_1_519', 'text': 'Escrow', 'string_index': 3103, 'bounding_box': [1032, 2816, 1142, 2840], 'confidence': 0.91}, {'word_id': 'word_1_520', 'text': 'T&l', 'string_index': 3110, 'bounding_box': [1157, 2816, 1230, 2842], 'confidence': 0.85}, {'word_id': 'word_1_521', 'text': 'Verified', 'string_index': 3114, 'bounding_box': [1556, 2826, 1671, 2850], 'confidence': 0.9}, {'word_id': 'word_1_522', 'text': 'Assets', 'string_index': 3123, 'bounding_box': [1686, 2826, 1789, 2850], 'confidence': 0.92}, {'word_id': 'word_1_523', 'text': '$', 'string_index': 3130, 'bounding_box': [2060, 2825, 2074, 2850], 'confidence': 0.78}, {'word_id': 'word_1_524', 'text': 'I:I', 'string_index': 3132, 'bounding_box': [129, 2857, 191, 2902], 'confidence': 0.74}, {'word_id': 'word_1_525', 'text': 'Manual', 'string_index': 3136, 'bounding_box': [208, 2876, 314, 2900], 'confidence': 0.91}, {'word_id': 'word_1_526', 'text': 'Underwriting', 'string_index': 3143, 'bounding_box': [331, 2876, 524, 2906], 'confidence': 0.91}, {'word_id': 'word_1_527', 'text': 'I:I', 'string_index': 3156, 'bounding_box': [1029, 2857, 1091, 2902], 'confidence': 0.74}, {'word_id': 'word_1_528', 'text': 'Yes', 'string_index': 3160, 'bounding_box': [1106, 2872, 1161, 2910], 'confidence': 0.9}, {'word_id': 'word_1_529', 'text': 'No', 'string_index': 3164, 'bounding_box': [1288, 2876, 1326, 2900], 'confidence': 0.91}, {'word_id': 'word_1_530', 'text': 'AUS', 'string_index': 3167, 'bounding_box': [206, 2926, 274, 2950], 'confidence': 0.92}, {'word_id': 'word_1_531', 'text': 'Source', 'string_index': 3171, 'bounding_box': [1557, 2926, 1661, 2950], 'confidence': 0.91}, {'word_id': 'word_1_532', 'text': 'of', 'string_index': 3178, 'bounding_box': [1676, 2926, 1704, 2950], 'confidence': 0.93}, {'word_id': 'word_1_533', 'text': 'Funds', 'string_index': 3181, 'bounding_box': [1719, 2926, 1806, 2950], 'confidence': 0.92}, {'word_id': 'word_1_534', 'text': 'I:I', 'string_index': 3187, 'bounding_box': [219, 2957, 281, 3002], 'confidence': 0.74}, {'word_id': 'word_1_535', 'text': 'DU', 'string_index': 3191, 'bounding_box': [298, 2976, 340, 3000], 'confidence': 0.95}, {'word_id': 'word_1_536', 'text': 'LP', 'string_index': 3194, 'bounding_box': [448, 2976, 482, 2999], 'confidence': 0.92}, {'word_id': 'word_1_537', 'text': 'I:I', 'string_index': 3197, 'bounding_box': [519, 2957, 581, 3002], 'confidence': 0.74}, {'word_id': 'word_1_538', 'text': 'Other', 'string_index': 3201, 'bounding_box': [583, 2972, 680, 3011], 'confidence': 0.92}, {'word_id': 'word_1_539', 'text': 'No.', 'string_index': 3207, 'bounding_box': [1558, 2976, 1605, 3000], 'confidence': 0.91}, {'word_id': 'word_1_540', 'text': 'of', 'string_index': 3211, 'bounding_box': [1622, 2976, 1650, 3000], 'confidence': 0.92}, {'word_id': 'word_1_541', 'text': 'Months', 'string_index': 3214, 'bounding_box': [1665, 2976, 1776, 3000], 'confidence': 0.92}, {'word_id': 'word_1_542', 'text': 'Reserves', 'string_index': 3221, 'bounding_box': [1792, 2976, 1927, 3000], 'confidence': 0.92}, {'word_id': 'word_1_543', 'text': '0', 'string_index': 3230, 'bounding_box': [1963, 2972, 1982, 3002], 'confidence': 0.92}, {'word_id': 'word_1_544', 'text': 'AUS', 'string_index': 3232, 'bounding_box': [206, 3026, 274, 3050], 'confidence': 0.92}, {'word_id': 'word_1_545', 'text': 'Recommendation', 'string_index': 3236, 'bounding_box': [290, 3026, 552, 3050], 'confidence': 0.91}, {'word_id': 'word_1_546', 'text': 'Interested', 'string_index': 3251, 'bounding_box': [1558, 3026, 1706, 3050], 'confidence': 0.92}, {'word_id': 'word_1_547', 'text': 'Party', 'string_index': 3262, 'bounding_box': [1723, 3026, 1799, 3056], 'confidence': 0.93}, {'word_id': 'word_1_548', 'text': 'Contributions', 'string_index': 3268, 'bounding_box': [1813, 3026, 2015, 3050], 'confidence': 0.9}, {'word_id': 'word_1_549', 'text': '%', 'string_index': 3282, 'bounding_box': [2396, 3025, 2422, 3050], 'confidence': 0.95}, {'word_id': 'word_1_550', 'text': 'DU', 'string_index': 3284, 'bounding_box': [208, 3076, 250, 3100], 'confidence': 0.93}, {'word_id': 'word_1_551', 'text': 'Case', 'string_index': 3287, 'bounding_box': [266, 3076, 338, 3100], 'confidence': 0.91}, {'word_id': 'word_1_552', 'text': 'ID/LP', 'string_index': 3292, 'bounding_box': [354, 3076, 432, 3101], 'confidence': 0.9}, {'word_id': 'word_1_553', 'text': 'AUS', 'string_index': 3298, 'bounding_box': [445, 3076, 512, 3100], 'confidence': 0.91}, {'word_id': 'word_1_554', 'text': 'Key', 'string_index': 3302, 'bounding_box': [529, 3076, 583, 3106], 'confidence': 0.92}, {'word_id': 'word_1_555', 'text': '#', 'string_index': 3306, 'bounding_box': [597, 3076, 614, 3100], 'confidence': 0.93}, {'word_id': 'word_1_556', 'text': '95164899', 'string_index': 3308, 'bounding_box': [718, 3072, 913, 3102], 'confidence': 0.96}, {'word_id': 'word_1_557', 'text': 'LP', 'string_index': 3317, 'bounding_box': [208, 3126, 242, 3149], 'confidence': 0.91}, {'word_id': 'word_1_558', 'text': 'Doc', 'string_index': 3320, 'bounding_box': [257, 3126, 313, 3150], 'confidence': 0.92}, {'word_id': 'word_1_559', 'text': 'Class', 'string_index': 3324, 'bounding_box': [328, 3126, 407, 3150], 'confidence': 0.93}, {'word_id': 'word_1_560', 'text': 'Freddie', 'string_index': 3330, 'bounding_box': [423, 3126, 551, 3152], 'confidence': 0.92}, {'word_id': 'word_1_561', 'text': 'ACCGQ’[', 'string_index': 3338, 'bounding_box': [717, 3123, 853, 3161], 'confidence': 0.71}, {'word_id': 'word_1_562', 'text': 'Community', 'string_index': 3346, 'bounding_box': [1265, 3126, 1438, 3155], 'confidence': 0.91}, {'word_id': 'word_1_563', 'text': 'Lending/Affordable', 'string_index': 3356, 'bounding_box': [1452, 3126, 1741, 3156], 'confidence': 0.9}, {'word_id': 'word_1_564', 'text': 'Housing', 'string_index': 3375, 'bounding_box': [1756, 3126, 1877, 3156], 'confidence': 0.91}, {'word_id': 'word_1_565', 'text': 'Initiative', 'string_index': 3383, 'bounding_box': [1892, 3126, 2018, 3150], 'confidence': 0.92}, {'word_id': 'word_1_566', 'text': 'I:I', 'string_index': 3394, 'bounding_box': [2049, 3107, 2111, 3152], 'confidence': 0.74}, {'word_id': 'word_1_567', 'text': 'Yes', 'string_index': 3398, 'bounding_box': [2126, 3122, 2181, 3160], 'confidence': 0.9}, {'word_id': 'word_1_568', 'text': 'No', 'string_index': 3402, 'bounding_box': [2308, 3126, 2346, 3150], 'confidence': 0.91}, {'word_id': 'word_1_569', 'text': 'Representative', 'string_index': 3405, 'bounding_box': [117, 3176, 342, 3205], 'confidence': 0.92}, {'word_id': 'word_1_570', 'text': 'Credit/Indicator', 'string_index': 3420, 'bounding_box': [357, 3176, 591, 3200], 'confidence': 0.92}, {'word_id': 'word_1_571', 'text': 'Score', 'string_index': 3437, 'bounding_box': [604, 3176, 690, 3200], 'confidence': 0.92}, {'word_id': 'word_1_572', 'text': '696', 'string_index': 3443, 'bounding_box': [718, 3172, 788, 3203], 'confidence': 0.78}, {'word_id': 'word_1_573', 'text': 'Home', 'string_index': 3447, 'bounding_box': [1128, 3176, 1214, 3200], 'confidence': 0.89}, {'word_id': 'word_1_574', 'text': 'Buyers/Homeownership', 'string_index': 3452, 'bounding_box': [1229, 3176, 1592, 3205], 'confidence': 0.89}, {'word_id': 'word_1_575', 'text': 'Education', 'string_index': 3473, 'bounding_box': [1606, 3176, 1753, 3200], 'confidence': 0.88}, {'word_id': 'word_1_576', 'text': 'Certificate', 'string_index': 3483, 'bounding_box': [1768, 3176, 1923, 3200], 'confidence': 0.91}, {'word_id': 'word_1_577', 'text': 'in', 'string_index': 3495, 'bounding_box': [1937, 3176, 1961, 3199], 'confidence': 0.92}, {'word_id': 'word_1_578', 'text': 'file', 'string_index': 3498, 'bounding_box': [1975, 3176, 2018, 3200], 'confidence': 0.93}, {'word_id': 'word_1_579', 'text': 'I:I', 'string_index': 3503, 'bounding_box': [2049, 3157, 2111, 3202], 'confidence': 0.74}, {'word_id': 'word_1_580', 'text': 'Yes', 'string_index': 3507, 'bounding_box': [2126, 3172, 2181, 3209], 'confidence': 0.91}, {'word_id': 'word_1_581', 'text': 'No', 'string_index': 3511, 'bounding_box': [2308, 3176, 2346, 3200], 'confidence': 0.91}, {'word_id': 'word_1_582', 'text': 'Underwriter', 'string_index': 3514, 'bounding_box': [117, 3226, 297, 3250], 'confidence': 0.91}, {'word_id': 'word_1_583', 'text': 'Comments', 'string_index': 3526, 'bounding_box': [311, 3226, 473, 3250], 'confidence': 0.84}, {'word_id': 'word_1_584', 'text': 'i', 'string_index': 3535, 'bounding_box': [508, 3222, 512, 3252], 'confidence': 0.73}, {'word_id': 'word_1_585', 'text': 'nconme-t', 'string_index': 3537, 'bounding_box': [533, 3223, 692, 3253], 'confidence': 0.58}, {'word_id': 'word_1_586', 'text': 'axes', 'string_index': 3546, 'bounding_box': [707, 3230, 800, 3253], 'confidence': 0.82}, {'word_id': 'word_1_587', 'text': 'assets-n/a', 'string_index': 3551, 'bounding_box': [832, 3222, 1077, 3253], 'confidence': 0.89}, {'word_id': 'word_1_588', 'text': 'credit-2/9/18', 'string_index': 3562, 'bounding_box': [1107, 3222, 1427, 3253], 'confidence': 0.87}, {'word_id': 'word_1_589', 'text': 'LP', 'string_index': 3576, 'bounding_box': [1459, 3222, 1507, 3252], 'confidence': 0.91}, {'word_id': 'word_1_590', 'text': 'exp-6/9/18', 'string_index': 3579, 'bounding_box': [1532, 3222, 1777, 3258], 'confidence': 0.91}, {'word_id': 'word_1_591', 'text': 'ofac-nv', 'string_index': 3590, 'bounding_box': [1807, 3222, 1976, 3253], 'confidence': 0.82}, {'word_id': 'word_1_594', 'text': 'IV.', 'string_index': 3598, 'bounding_box': [125, 3522, 174, 3551], 'confidence': 0.81}, {'word_id': 'word_1_595', 'text': 'Seller,', 'string_index': 3602, 'bounding_box': [194, 3522, 309, 3555], 'confidence': 0.92}, {'word_id': 'word_1_596', 'text': 'Contract,', 'string_index': 3610, 'bounding_box': [328, 3522, 503, 3555], 'confidence': 0.9}, {'word_id': 'word_1_597', 'text': 'and', 'string_index': 3620, 'bounding_box': [522, 3522, 587, 3552], 'confidence': 0.89}, {'word_id': 'word_1_598', 'text': 'Contact', 'string_index': 3624, 'bounding_box': [606, 3522, 754, 3552], 'confidence': 0.92}, {'word_id': 'word_1_599', 'text': 'Information', 'string_index': 3632, 'bounding_box': [772, 3522, 987, 3552], 'confidence': 0.92}, {'word_id': 'word_1_610', 'text': 'Seller', 'string_index': 3644, 'bounding_box': [117, 3576, 200, 3600], 'confidence': 0.92}, {'word_id': 'word_1_611', 'text': 'Name', 'string_index': 3651, 'bounding_box': [215, 3576, 299, 3600], 'confidence': 0.76}, {'word_id': 'word_1_612', 'text': 'Texas', 'string_index': 3656, 'bounding_box': [327, 3572, 445, 3603], 'confidence': 0.87}, {'word_id': 'word_1_613', 'text': 'Loan', 'string_index': 3662, 'bounding_box': [479, 3572, 571, 3603], 'confidence': 0.87}, {'word_id': 'word_1_614', 'text': 'Star,', 'string_index': 3667, 'bounding_box': [603, 3572, 709, 3608], 'confidence': 0.9}, {'word_id': 'word_1_615', 'text': 'Inc.', 'string_index': 3673, 'bounding_box': [755, 3572, 834, 3603], 'confidence': 0.34}, {'word_id': 'word_1_616', 'text': 'Contact', 'string_index': 3678, 'bounding_box': [1317, 3576, 1435, 3600], 'confidence': 0.92}, {'word_id': 'word_1_617', 'text': 'Name', 'string_index': 3686, 'bounding_box': [1450, 3576, 1534, 3600], 'confidence': 0.91}, {'word_id': 'word_1_618', 'text': 'Seller', 'string_index': 3691, 'bounding_box': [117, 3626, 200, 3650], 'confidence': 0.92}, {'word_id': 'word_1_619', 'text': 'Address', 'string_index': 3698, 'bounding_box': [213, 3626, 337, 3650], 'confidence': 0.9}, {'word_id': 'word_1_620', 'text': '2233', 'string_index': 3706, 'bounding_box': [356, 3622, 451, 3653], 'confidence': 0.92}, {'word_id': 'word_1_621', 'text': 'Yal', 'string_index': 3711, 'bounding_box': [481, 3622, 537, 3653], 'confidence': 0.9}, {'word_id': 'word_1_622', 'text': 'e', 'string_index': 3715, 'bounding_box': [557, 3630, 577, 3653], 'confidence': 0.93}, {'word_id': 'word_1_623', 'text': 'Street,', 'string_index': 3717, 'bounding_box': [607, 3622, 763, 3658], 'confidence': 0.91}, {'word_id': 'word_1_624', 'text': 'Houston,', 'string_index': 3725, 'bounding_box': [808, 3622, 988, 3658], 'confidence': 0.91}, {'word_id': 'word_1_625', 'text': 'TX', 'string_index': 3734, 'bounding_box': [1031, 3622, 1082, 3652], 'confidence': 0.89}, {'word_id': 'word_1_626', 'text': 'Contact', 'string_index': 3737, 'bounding_box': [1317, 3626, 1435, 3650], 'confidence': 0.93}, {'word_id': 'word_1_627', 'text': 'Title', 'string_index': 3745, 'bounding_box': [1448, 3626, 1512, 3650], 'confidence': 0.91}, {'word_id': 'word_1_628', 'text': '77008', 'string_index': 3751, 'bounding_box': [117, 3672, 237, 3703], 'confidence': 0.96}, {'word_id': 'word_1_629', 'text': 'Contact', 'string_index': 3757, 'bounding_box': [1317, 3676, 1435, 3700], 'confidence': 0.9}, {'word_id': 'word_1_630', 'text': 'Phone', 'string_index': 3765, 'bounding_box': [1450, 3676, 1540, 3700], 'confidence': 0.92}, {'word_id': 'word_1_631', 'text': 'Number', 'string_index': 3771, 'bounding_box': [1556, 3676, 1673, 3700], 'confidence': 0.91}, {'word_id': 'word_1_632', 'text': 'ext.', 'string_index': 3778, 'bounding_box': [2142, 3679, 2195, 3700], 'confidence': 0.91}, {'word_id': 'word_1_633', 'text': 'Seller', 'string_index': 3783, 'bounding_box': [117, 3726, 200, 3750], 'confidence': 0.92}, {'word_id': 'word_1_634', 'text': 'No.', 'string_index': 3790, 'bounding_box': [215, 3726, 262, 3750], 'confidence': 0.92}, {'word_id': 'word_1_635', 'text': 'Investor', 'string_index': 3794, 'bounding_box': [598, 3726, 718, 3750], 'confidence': 0.89}, {'word_id': 'word_1_636', 'text': 'Loan', 'string_index': 3803, 'bounding_box': [733, 3726, 802, 3750], 'confidence': 0.9}, {'word_id': 'word_1_637', 'text': 'No.', 'string_index': 3808, 'bounding_box': [818, 3726, 865, 3750], 'confidence': 0.91}, {'word_id': 'word_1_638', 'text': 'Seller', 'string_index': 3812, 'bounding_box': [117, 3776, 200, 3800], 'confidence': 0.92}, {'word_id': 'word_1_639', 'text': 'Loan', 'string_index': 3819, 'bounding_box': [215, 3776, 284, 3800], 'confidence': 0.9}, {'word_id': 'word_1_640', 'text': 'No.', 'string_index': 3824, 'bounding_box': [300, 3776, 347, 3800], 'confidence': 0.9}, {'word_id': 'word_1_641', 'text': '3300144195', 'string_index': 3828, 'bounding_box': [373, 3772, 618, 3802], 'confidence': 0.95}, {'word_id': 'word_1_642', 'text': 'Contact', 'string_index': 3839, 'bounding_box': [1317, 3776, 1435, 3800], 'confidence': 0.91}, {'word_id': 'word_1_643', 'text': 'Signature', 'string_index': 3847, 'bounding_box': [1449, 3776, 1592, 3806], 'confidence': 0.93}, {'word_id': 'word_1_644', 'text': '3300144195', 'string_index': 3857, 'bounding_box': [117, 3896, 272, 3914], 'confidence': 0.96}, {'word_id': 'word_1_645', 'text': '3300144195', 'string_index': 3868, 'bounding_box': [1198, 3896, 1354, 3914], 'confidence': 0.96}, {'word_id': 'word_1_646', 'text': 'Uniform', 'string_index': 3879, 'bounding_box': [117, 3933, 205, 3950], 'confidence': 0.92}, {'word_id': 'word_1_647', 'text': 'Underwriting', 'string_index': 3887, 'bounding_box': [217, 3933, 361, 3955], 'confidence': 0.92}, {'word_id': 'word_1_648', 'text': 'and', 'string_index': 3900, 'bounding_box': [372, 3933, 410, 3950], 'confidence': 0.91}, {'word_id': 'word_1_649', 'text': 'Transmittal', 'string_index': 3904, 'bounding_box': [421, 3933, 547, 3950], 'confidence': 0.91}, {'word_id': 'word_1_650', 'text': 'Summary', 'string_index': 3916, 'bounding_box': [559, 3932, 666, 3955], 'confidence': 0.92}, {'word_id': 'word_1_651', 'text': 'Form', 'string_index': 3924, 'bounding_box': [2216, 3933, 2271, 3950], 'confidence': 0.91}, {'word_id': 'word_1_652', 'text': '1077', 'string_index': 3929, 'bounding_box': [2285, 3933, 2343, 3950], 'confidence': 0.91}, {'word_id': 'word_1_653', 'text': '06/09', 'string_index': 3934, 'bounding_box': [2354, 3933, 2423, 3951], 'confidence': 0.91}, {'word_id': 'word_1_654', 'text': 'Fannie', 'string_index': 3940, 'bounding_box': [117, 3958, 188, 3975], 'confidence': 0.91}, {'word_id': 'word_1_655', 'text': 'Mae/Freddie', 'string_index': 3947, 'bounding_box': [199, 3958, 336, 3976], 'confidence': 0.91}, {'word_id': 'word_1_656', 'text': 'Mac', 'string_index': 3959, 'bounding_box': [347, 3958, 393, 3975], 'confidence': 0.92}, {'word_id': 'word_1_657', 'text': 'Form', 'string_index': 3963, 'bounding_box': [2216, 3958, 2271, 3975], 'confidence': 0.9}, {'word_id': 'word_1_658', 'text': '1008', 'string_index': 3968, 'bounding_box': [2285, 3958, 2343, 3976], 'confidence': 0.93}, {'word_id': 'word_1_659', 'text': '06/09', 'string_index': 3973, 'bounding_box': [2354, 3958, 2423, 3976], 'confidence': 0.92}, {'word_id': 'word_1_660', 'text': 'MP', 'string_index': 3979, 'bounding_box': [135, 3983, 170, 4000], 'confidence': 0.9}, {'word_id': 'word_1_661', 'text': '®', 'string_index': 3982, 'bounding_box': [182, 3983, 202, 4002], 'confidence': 0.88}, {'word_id': 'word_1_662', 'text': 'VMP25N', 'string_index': 3984, 'bounding_box': [2192, 3983, 2295, 4000], 'confidence': 0.89}, {'word_id': 'word_1_663', 'text': '0907.02', 'string_index': 3991, 'bounding_box': [2307, 3983, 2423, 4003], 'confidence': 0.91}, {'word_id': 'word_1_664', 'text': 'Wolters', 'string_index': 3999, 'bounding_box': [116, 4008, 202, 4025], 'confidence': 0.91}, {'word_id': 'word_1_665', 'text': 'Kluwer', 'string_index': 4007, 'bounding_box': [213, 4008, 291, 4026], 'confidence': 0.88}, {'word_id': 'word_1_666', 'text': 'Financial', 'string_index': 4014, 'bounding_box': [302, 4008, 397, 4025], 'confidence': 0.91}, {'word_id': 'word_1_667', 'text': 'Services', 'string_index': 4024, 'bounding_box': [409, 4007, 502, 4026], 'confidence': 0.91}, {'word_id': 'word_1_668', 'text': '20180403', 'string_index': 4033, 'bounding_box': [1042, 4006, 1166, 4024], 'confidence': 0.91}, {'word_id': 'word_1_669', 'text': '18.1.0.1520-J', 'string_index': 4042, 'bounding_box': [1180, 4006, 1348, 4024], 'confidence': 0.91}, {'word_id': 'word_1_670', 'text': '20161116', 'string_index': 4056, 'bounding_box': [1360, 4006, 1485, 4024], 'confidence': 0.92}, {'word_id': 'word_1_671', 'text': 'Y', 'string_index': 4065, 'bounding_box': [1495, 4006, 1510, 4023], 'confidence': 0.92}, {'word_id': 'word_1_672', 'text': 'Page', 'string_index': 4067, 'bounding_box': [2293, 4008, 2345, 4030], 'confidence': 0.92}, {'word_id': 'word_1_673', 'text': '1', 'string_index': 4072, 'bounding_box': [2358, 4008, 2364, 4025], 'confidence': 0.92}, {'word_id': 'word_1_674', 'text': 'of', 'string_index': 4074, 'bounding_box': [2379, 4008, 2400, 4025], 'confidence': 0.92}, {'word_id': 'word_1_675', 'text': '1', 'string_index': 4077, 'bounding_box': [2413, 4008, 2419, 4025], 'confidence': 0.96}]\n"
     ]
    }
   ],
   "source": [
    "\n",
    "aws_json = aggregate_formatted_entities(\"18297279-7cb8-4a7f-bc85-d133659f0816\")"
   ]
  },
  {
   "cell_type": "code",
   "execution_count": 13,
   "metadata": {
    "scrolled": false
   },
   "outputs": [
    {
     "name": "stdout",
     "output_type": "stream",
     "text": [
      "pages--> [0, 1, 2, 3, 4]\n",
      "pages--> [0, 1, 2, 3, 4]\n",
      "pages--> [0, 1, 2, 3]\n",
      "pages--> [0, 1, 2]\n",
      "pages--> [0, 1, 2, 3]\n",
      "pages--> [0, 1, 2]\n",
      "pages--> [0, 1, 2, 3, 4, 5]\n",
      "pages--> [0, 1, 2, 3, 4]\n",
      "pages--> [0, 1, 2, 3, 4]\n",
      "pages--> [0, 1, 2, 3]\n"
     ]
    }
   ],
   "source": [
    "for i,j in temp.iterrows():\n",
    "    aws_json = aggregate_formatted_entities(j.rid)"
   ]
  },
  {
   "cell_type": "code",
   "execution_count": null,
   "metadata": {
    "scrolled": true
   },
   "outputs": [],
   "source": [
    "aws_json = aggregate_formatted_entities(\"bd5ff6ce-f0cf-4b16-8e75-5a25b09b6ad6\")"
   ]
  },
  {
   "cell_type": "code",
   "execution_count": null,
   "metadata": {},
   "outputs": [],
   "source": [
    "pd.DataFrame(full_lits)"
   ]
  },
  {
   "cell_type": "code",
   "execution_count": 22,
   "metadata": {},
   "outputs": [],
   "source": [
    "training_frame = pd.DataFrame(full_lits)"
   ]
  },
  {
   "cell_type": "code",
   "execution_count": 23,
   "metadata": {},
   "outputs": [
    {
     "data": {
      "text/html": [
       "<div>\n",
       "<style scoped>\n",
       "    .dataframe tbody tr th:only-of-type {\n",
       "        vertical-align: middle;\n",
       "    }\n",
       "\n",
       "    .dataframe tbody tr th {\n",
       "        vertical-align: top;\n",
       "    }\n",
       "\n",
       "    .dataframe thead th {\n",
       "        text-align: right;\n",
       "    }\n",
       "</style>\n",
       "<table border=\"1\" class=\"dataframe\">\n",
       "  <thead>\n",
       "    <tr style=\"text-align: right;\">\n",
       "      <th></th>\n",
       "      <th>word_id</th>\n",
       "      <th>text</th>\n",
       "      <th>string_index</th>\n",
       "      <th>bounding_box</th>\n",
       "      <th>confidence</th>\n",
       "      <th>text_blob</th>\n",
       "      <th>page_ind</th>\n",
       "      <th>rid</th>\n",
       "      <th>page</th>\n",
       "    </tr>\n",
       "  </thead>\n",
       "  <tbody>\n",
       "    <tr>\n",
       "      <th>0</th>\n",
       "      <td>word_1_1</td>\n",
       "      <td>Yellowstone</td>\n",
       "      <td>0</td>\n",
       "      <td>[1139, 84, 1329, 109]</td>\n",
       "      <td>0.91</td>\n",
       "      <td>Yellowstone Bank Uniform Residential Loan Appl...</td>\n",
       "      <td>page_1</td>\n",
       "      <td>bd5ff6ce-f0cf-4b16-8e75-5a25b09b6ad6</td>\n",
       "      <td>1</td>\n",
       "    </tr>\n",
       "    <tr>\n",
       "      <th>1</th>\n",
       "      <td>word_1_2</td>\n",
       "      <td>Bank</td>\n",
       "      <td>12</td>\n",
       "      <td>[1342, 84, 1420, 109]</td>\n",
       "      <td>0.92</td>\n",
       "      <td>Yellowstone Bank Uniform Residential Loan Appl...</td>\n",
       "      <td>page_1</td>\n",
       "      <td>bd5ff6ce-f0cf-4b16-8e75-5a25b09b6ad6</td>\n",
       "      <td>1</td>\n",
       "    </tr>\n",
       "    <tr>\n",
       "      <th>2</th>\n",
       "      <td>word_1_3</td>\n",
       "      <td>Uniform</td>\n",
       "      <td>17</td>\n",
       "      <td>[691, 150, 936, 201]</td>\n",
       "      <td>0.92</td>\n",
       "      <td>Yellowstone Bank Uniform Residential Loan Appl...</td>\n",
       "      <td>page_1</td>\n",
       "      <td>bd5ff6ce-f0cf-4b16-8e75-5a25b09b6ad6</td>\n",
       "      <td>1</td>\n",
       "    </tr>\n",
       "    <tr>\n",
       "      <th>3</th>\n",
       "      <td>word_1_4</td>\n",
       "      <td>Residential</td>\n",
       "      <td>25</td>\n",
       "      <td>[962, 150, 1308, 201]</td>\n",
       "      <td>0.91</td>\n",
       "      <td>Yellowstone Bank Uniform Residential Loan Appl...</td>\n",
       "      <td>page_1</td>\n",
       "      <td>bd5ff6ce-f0cf-4b16-8e75-5a25b09b6ad6</td>\n",
       "      <td>1</td>\n",
       "    </tr>\n",
       "    <tr>\n",
       "      <th>4</th>\n",
       "      <td>word_1_5</td>\n",
       "      <td>Loan</td>\n",
       "      <td>37</td>\n",
       "      <td>[1336, 151, 1486, 201]</td>\n",
       "      <td>0.91</td>\n",
       "      <td>Yellowstone Bank Uniform Residential Loan Appl...</td>\n",
       "      <td>page_1</td>\n",
       "      <td>bd5ff6ce-f0cf-4b16-8e75-5a25b09b6ad6</td>\n",
       "      <td>1</td>\n",
       "    </tr>\n",
       "    <tr>\n",
       "      <th>...</th>\n",
       "      <td>...</td>\n",
       "      <td>...</td>\n",
       "      <td>...</td>\n",
       "      <td>...</td>\n",
       "      <td>...</td>\n",
       "      <td>...</td>\n",
       "      <td>...</td>\n",
       "      <td>...</td>\n",
       "      <td>...</td>\n",
       "    </tr>\n",
       "    <tr>\n",
       "      <th>1512285</th>\n",
       "      <td>word_8_140</td>\n",
       "      <td>07/05</td>\n",
       "      <td>826</td>\n",
       "      <td>[857, 3094, 918, 3112]</td>\n",
       "      <td>0.88</td>\n",
       "      <td>Continuation Sheet - Schedule of Liabilities B...</td>\n",
       "      <td>page_8</td>\n",
       "      <td>71e84b42-1b13-4dd1-bcd6-cdc8a798c31f</td>\n",
       "      <td>8</td>\n",
       "    </tr>\n",
       "    <tr>\n",
       "      <th>1512286</th>\n",
       "      <td>word_8_141</td>\n",
       "      <td>rev.</td>\n",
       "      <td>832</td>\n",
       "      <td>[927, 3094, 969, 3117]</td>\n",
       "      <td>0.79</td>\n",
       "      <td>Continuation Sheet - Schedule of Liabilities B...</td>\n",
       "      <td>page_8</td>\n",
       "      <td>71e84b42-1b13-4dd1-bcd6-cdc8a798c31f</td>\n",
       "      <td>8</td>\n",
       "    </tr>\n",
       "    <tr>\n",
       "      <th>1512287</th>\n",
       "      <td>word_8_142</td>\n",
       "      <td>6/09</td>\n",
       "      <td>837</td>\n",
       "      <td>[984, 3094, 1038, 3118]</td>\n",
       "      <td>0.88</td>\n",
       "      <td>Continuation Sheet - Schedule of Liabilities B...</td>\n",
       "      <td>page_8</td>\n",
       "      <td>71e84b42-1b13-4dd1-bcd6-cdc8a798c31f</td>\n",
       "      <td>8</td>\n",
       "    </tr>\n",
       "    <tr>\n",
       "      <th>1512288</th>\n",
       "      <td>word_8_143</td>\n",
       "      <td>www_bytesoftware.com</td>\n",
       "      <td>842</td>\n",
       "      <td>[1959, 3097, 2210, 3121]</td>\n",
       "      <td>0.47</td>\n",
       "      <td>Continuation Sheet - Schedule of Liabilities B...</td>\n",
       "      <td>page_8</td>\n",
       "      <td>71e84b42-1b13-4dd1-bcd6-cdc8a798c31f</td>\n",
       "      <td>8</td>\n",
       "    </tr>\n",
       "    <tr>\n",
       "      <th>1512289</th>\n",
       "      <td>word_8_144</td>\n",
       "      <td>B00-685-1008</td>\n",
       "      <td>863</td>\n",
       "      <td>[2225, 3098, 2380, 3117]</td>\n",
       "      <td>0.51</td>\n",
       "      <td>Continuation Sheet - Schedule of Liabilities B...</td>\n",
       "      <td>page_8</td>\n",
       "      <td>71e84b42-1b13-4dd1-bcd6-cdc8a798c31f</td>\n",
       "      <td>8</td>\n",
       "    </tr>\n",
       "  </tbody>\n",
       "</table>\n",
       "<p>1512290 rows × 9 columns</p>\n",
       "</div>"
      ],
      "text/plain": [
       "            word_id                  text  string_index  \\\n",
       "0          word_1_1           Yellowstone             0   \n",
       "1          word_1_2                  Bank            12   \n",
       "2          word_1_3               Uniform            17   \n",
       "3          word_1_4           Residential            25   \n",
       "4          word_1_5                  Loan            37   \n",
       "...             ...                   ...           ...   \n",
       "1512285  word_8_140                 07/05           826   \n",
       "1512286  word_8_141                  rev.           832   \n",
       "1512287  word_8_142                  6/09           837   \n",
       "1512288  word_8_143  www_bytesoftware.com           842   \n",
       "1512289  word_8_144          B00-685-1008           863   \n",
       "\n",
       "                     bounding_box  confidence  \\\n",
       "0           [1139, 84, 1329, 109]        0.91   \n",
       "1           [1342, 84, 1420, 109]        0.92   \n",
       "2            [691, 150, 936, 201]        0.92   \n",
       "3           [962, 150, 1308, 201]        0.91   \n",
       "4          [1336, 151, 1486, 201]        0.91   \n",
       "...                           ...         ...   \n",
       "1512285    [857, 3094, 918, 3112]        0.88   \n",
       "1512286    [927, 3094, 969, 3117]        0.79   \n",
       "1512287   [984, 3094, 1038, 3118]        0.88   \n",
       "1512288  [1959, 3097, 2210, 3121]        0.47   \n",
       "1512289  [2225, 3098, 2380, 3117]        0.51   \n",
       "\n",
       "                                                 text_blob page_ind  \\\n",
       "0        Yellowstone Bank Uniform Residential Loan Appl...   page_1   \n",
       "1        Yellowstone Bank Uniform Residential Loan Appl...   page_1   \n",
       "2        Yellowstone Bank Uniform Residential Loan Appl...   page_1   \n",
       "3        Yellowstone Bank Uniform Residential Loan Appl...   page_1   \n",
       "4        Yellowstone Bank Uniform Residential Loan Appl...   page_1   \n",
       "...                                                    ...      ...   \n",
       "1512285  Continuation Sheet - Schedule of Liabilities B...   page_8   \n",
       "1512286  Continuation Sheet - Schedule of Liabilities B...   page_8   \n",
       "1512287  Continuation Sheet - Schedule of Liabilities B...   page_8   \n",
       "1512288  Continuation Sheet - Schedule of Liabilities B...   page_8   \n",
       "1512289  Continuation Sheet - Schedule of Liabilities B...   page_8   \n",
       "\n",
       "                                          rid  page  \n",
       "0        bd5ff6ce-f0cf-4b16-8e75-5a25b09b6ad6     1  \n",
       "1        bd5ff6ce-f0cf-4b16-8e75-5a25b09b6ad6     1  \n",
       "2        bd5ff6ce-f0cf-4b16-8e75-5a25b09b6ad6     1  \n",
       "3        bd5ff6ce-f0cf-4b16-8e75-5a25b09b6ad6     1  \n",
       "4        bd5ff6ce-f0cf-4b16-8e75-5a25b09b6ad6     1  \n",
       "...                                       ...   ...  \n",
       "1512285  71e84b42-1b13-4dd1-bcd6-cdc8a798c31f     8  \n",
       "1512286  71e84b42-1b13-4dd1-bcd6-cdc8a798c31f     8  \n",
       "1512287  71e84b42-1b13-4dd1-bcd6-cdc8a798c31f     8  \n",
       "1512288  71e84b42-1b13-4dd1-bcd6-cdc8a798c31f     8  \n",
       "1512289  71e84b42-1b13-4dd1-bcd6-cdc8a798c31f     8  \n",
       "\n",
       "[1512290 rows x 9 columns]"
      ]
     },
     "execution_count": 23,
     "metadata": {},
     "output_type": "execute_result"
    }
   ],
   "source": [
    "training_frame\n",
    "#training_frame = training_frame[training_frame[\"page\"]<8]"
   ]
  },
  {
   "cell_type": "code",
   "execution_count": 25,
   "metadata": {},
   "outputs": [],
   "source": [
    "training_frame.to_csv(\"300_final_dataset.csv\",index=False)"
   ]
  },
  {
   "cell_type": "code",
   "execution_count": null,
   "metadata": {},
   "outputs": [],
   "source": [
    "list_of_tagged_word_ids = get_tagged_words(temp_tagged)\n",
    "list_of_untagged_entities, list_of_untagged_word_ids = get_untagged_words(temp_untagged,list_of_tagged_word_ids)\n",
    "list_of_untagged_entities"
   ]
  },
  {
   "cell_type": "code",
   "execution_count": null,
   "metadata": {},
   "outputs": [],
   "source": [
    "untagged_word_ids = [ent[\"word_id\"] for ent in list_of_untagged_entities]\n"
   ]
  },
  {
   "cell_type": "markdown",
   "metadata": {},
   "source": [
    "# Now Tagging experimentation with other taggers"
   ]
  },
  {
   "cell_type": "code",
   "execution_count": null,
   "metadata": {},
   "outputs": [],
   "source": []
  },
  {
   "cell_type": "code",
   "execution_count": null,
   "metadata": {},
   "outputs": [],
   "source": [
    "tagged_snre_pages = []\n",
    "for blob_by_page in page_blobs:\n",
    "    temp_tag = [sner_tagger.tag(word_tokenize(blob_by_page))]\n",
    "    temp_result_array = process_tagged_with_text(temp_tag)\n",
    "    tagged_snre_pages.append(temp_result_array)"
   ]
  },
  {
   "cell_type": "code",
   "execution_count": null,
   "metadata": {},
   "outputs": [],
   "source": [
    "zipped_sner_tagged_entities = tagger.zip_words_entities(temp_untagged[0],tagged_snre_pages[0])"
   ]
  },
  {
   "cell_type": "code",
   "execution_count": null,
   "metadata": {},
   "outputs": [],
   "source": [
    "comparelist = [word[\"word_id\"] for word in zipped_sner_tagged_entities[\"entities\"]]"
   ]
  },
  {
   "cell_type": "code",
   "execution_count": null,
   "metadata": {},
   "outputs": [],
   "source": [
    "comparelist"
   ]
  },
  {
   "cell_type": "code",
   "execution_count": null,
   "metadata": {},
   "outputs": [],
   "source": [
    "page_blobs[0]"
   ]
  },
  {
   "cell_type": "code",
   "execution_count": null,
   "metadata": {},
   "outputs": [],
   "source": [
    "from spacy.lang.en import English\n",
    "parser = English()"
   ]
  },
  {
   "cell_type": "code",
   "execution_count": null,
   "metadata": {},
   "outputs": [],
   "source": [
    "def entities(example, show=False):\n",
    "    if show: print(example)\n",
    "    parsedEx = parser(example)\n",
    " \n",
    "    print(\"-------------- entities only ---------------\")\n",
    "    # if you just want the entities and nothing else, you can do access the parsed examples \"ents\" property like this:\n",
    "    ents = list(parsedEx.ents)\n",
    "    tags={}\n",
    "    for entity in ents:\n",
    "        #print(entity.label, entity.label_, ' '.join(t.orth_ for t in entity))\n",
    "        term=' '.join(t.orth_ for t in entity)\n",
    "        if ' '.join(term) not in tags:\n",
    "            tags[term]=[(entity.label, entity.label_)]\n",
    "        else:\n",
    "            tags[term].append((entity.label, entity.label_))\n",
    "    print(tags)"
   ]
  },
  {
   "cell_type": "code",
   "execution_count": null,
   "metadata": {},
   "outputs": [],
   "source": [
    "just_check.street_addresses"
   ]
  },
  {
   "cell_type": "code",
   "execution_count": null,
   "metadata": {},
   "outputs": [],
   "source": [
    "import datefinder"
   ]
  },
  {
   "cell_type": "code",
   "execution_count": null,
   "metadata": {},
   "outputs": [],
   "source": [
    "matches = datefinder.find_dates(\"If this is an application for joint credit, Borrower and Co-Borrower each agree that we intend to apg_ly for joint credit sign below: DocuSigned by: DocuSigned by —thu'tl M Jolunson. $020312  \")\n",
    "for match in matches:\n",
    "    print(match)"
   ]
  },
  {
   "cell_type": "code",
   "execution_count": null,
   "metadata": {},
   "outputs": [],
   "source": []
  }
 ],
 "metadata": {
  "kernelspec": {
   "display_name": "conda_python3",
   "language": "python",
   "name": "conda_python3"
  },
  "language_info": {
   "codemirror_mode": {
    "name": "ipython",
    "version": 3
   },
   "file_extension": ".py",
   "mimetype": "text/x-python",
   "name": "python",
   "nbconvert_exporter": "python",
   "pygments_lexer": "ipython3",
   "version": "3.6.10"
  }
 },
 "nbformat": 4,
 "nbformat_minor": 4
}
