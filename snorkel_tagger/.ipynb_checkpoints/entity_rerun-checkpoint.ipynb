{
 "cells": [
  {
   "cell_type": "code",
   "execution_count": 20,
   "metadata": {},
   "outputs": [],
   "source": [
    "import json\n",
    "import boto3\n",
    "import sys\n",
    "import time\n",
    "import pandas as pd\n",
    "import requests"
   ]
  },
  {
   "cell_type": "code",
   "execution_count": 21,
   "metadata": {},
   "outputs": [],
   "source": [
    "query = 'SELECT hpaths.\"_remember_id\", hpaths.\"data\" FROM \"reports_neo\".\"doc_type\" as dtype left join \"reports_neo\".\"hocr_paths\" as hpaths on dtype.\"_remember_id\" = hpaths.\"_remember_id\"'\n",
    "s3resource = boto3.resource(\"s3\")\n",
    "athena_client = boto3.client(\"athena\")\n",
    "ssm = boto3.client(\"ssm\")\n",
    "root_url = ssm.get_parameter(Name=f\"/account/root-url\")[\"Parameter\"][\"Value\"]\n",
    "apikey = ssm.get_parameter(Name=\"/account/internal-api-key\")[\"Parameter\"][\"Value\"]\n",
    "base_url = f\"https://tagentities.{root_url}\"\n",
    "acc_owner = ssm.get_parameter(Name=\"/account/owner\")[\"Parameter\"][\"Value\"].upper()\n",
    "headers = {\"x-api-key\": apikey}\n",
    "athena_bucket = get_athena_bucket(s3resource)"
   ]
  },
  {
   "cell_type": "code",
   "execution_count": 22,
   "metadata": {},
   "outputs": [
    {
     "data": {
      "text/plain": [
       "'CALIBER'"
      ]
     },
     "execution_count": 22,
     "metadata": {},
     "output_type": "execute_result"
    }
   ],
   "source": [
    "acc_owner"
   ]
  },
  {
   "cell_type": "code",
   "execution_count": 29,
   "metadata": {},
   "outputs": [],
   "source": [
    "def fetchall_athena(query_string, client, athena_bucket, get_first_col=False):\n",
    "    query_id = client.start_query_execution(\n",
    "        QueryString=query_string,\n",
    "        QueryExecutionContext={\"Database\": \"reports_neo\"},\n",
    "        ResultConfiguration={\"OutputLocation\": f\"s3://{athena_bucket}\"},\n",
    "    )[\"QueryExecutionId\"]\n",
    "    query_status = None\n",
    "    while query_status == \"QUEUED\" or query_status == \"RUNNING\" or query_status is None:\n",
    "        query_status = client.get_query_execution(QueryExecutionId=query_id)[\n",
    "            \"QueryExecution\"\n",
    "        ][\"Status\"][\"State\"]\n",
    "        if query_status == \"FAILED\" or query_status == \"CANCELLED\":\n",
    "            raise Exception(\n",
    "                'Athena query with the string \"{}\" failed or was cancelled'.format(\n",
    "                    query_string\n",
    "                )\n",
    "            )\n",
    "        time.sleep(10)\n",
    "    results_paginator = client.get_paginator(\"get_query_results\")\n",
    "    results_iter = results_paginator.paginate(\n",
    "        QueryExecutionId=query_id, PaginationConfig={\"PageSize\": 1000}\n",
    "    )\n",
    "    results = []\n",
    "    data_list = []\n",
    "    for results_page in results_iter:\n",
    "        for row in results_page[\"ResultSet\"][\"Rows\"]:\n",
    "            data_list.append(row[\"Data\"])\n",
    "    if get_first_col:\n",
    "        start_index = 0\n",
    "    else:\n",
    "        start_index = 1\n",
    "    for datum in data_list[start_index:]:\n",
    "        results.append([x.get(\"VarCharValue\") for x in datum])\n",
    "    return [tuple(x) for x in results]\n",
    "\n",
    "\n",
    "def get_athena_bucket(s3resource):\n",
    "    # Get athena bucket name\n",
    "    all_buckets = list(s3resource.buckets.all())\n",
    "    athena_buckets = [x.name for x in all_buckets if \"athena\" in x.name]\n",
    "    if len(athena_buckets):\n",
    "        return athena_buckets[0]\n",
    "    print(\"No athena buckets available\")\n",
    "    sys.exit()\n",
    "\n",
    "\n",
    "    \n",
    "def rerun(rid, path):\n",
    "    try:\n",
    "        payload = {\n",
    "            \"_remember_id\": rid,\n",
    "            \"_paginated_hocr_metadata_path\": path,\n",
    "            \"_path\": \"tagging\",\n",
    "            \"_read_wp_task_token\": \"fake\",\n",
    "            \"AccountOwner\": acc_owner,\n",
    "            \"taskToken\": \"fake\"\n",
    "        }\n",
    "        rer = requests.post(\n",
    "                url=base_url,\n",
    "                headers=headers,\n",
    "                data=json.dumps(payload),\n",
    "                verify=True,\n",
    "            )\n",
    "        return json.loads(rer.text)['_execution_arn']\n",
    "    except:\n",
    "        return \"failed\"\n"
   ]
  },
  {
   "cell_type": "code",
   "execution_count": 24,
   "metadata": {},
   "outputs": [],
   "source": [
    "hocr_paths = pd.DataFrame(fetchall_athena(query, athena_client, athena_bucket))"
   ]
  },
  {
   "cell_type": "code",
   "execution_count": 25,
   "metadata": {},
   "outputs": [],
   "source": [
    "hocr_paths.columns = [ \"_remember_id\", \"_paginated_hocr_metadata_path\"]\n",
    "hocr_paths=hocr_paths.dropna()"
   ]
  },
  {
   "cell_type": "code",
   "execution_count": 26,
   "metadata": {},
   "outputs": [
    {
     "data": {
      "text/plain": [
       "False"
      ]
     },
     "execution_count": 26,
     "metadata": {},
     "output_type": "execute_result"
    }
   ],
   "source": [
    "None in list(hocr_paths._remember_id.unique())"
   ]
  },
  {
   "cell_type": "code",
   "execution_count": 27,
   "metadata": {},
   "outputs": [
    {
     "data": {
      "text/plain": [
       "'https://tagentities.calibertraining.heavywater.com'"
      ]
     },
     "execution_count": 27,
     "metadata": {},
     "output_type": "execute_result"
    }
   ],
   "source": [
    "base_url"
   ]
  },
  {
   "cell_type": "code",
   "execution_count": null,
   "metadata": {},
   "outputs": [],
   "source": [
    "hocr_paths[\"c\"] = hocr_paths.apply(lambda row: rerun(row[\"_remember_id\"], row[\"_paginated_hocr_metadata_path\"]), axis = 1)"
   ]
  },
  {
   "cell_type": "code",
   "execution_count": null,
   "metadata": {},
   "outputs": [],
   "source": [
    "len(hocr_paths)"
   ]
  },
  {
   "cell_type": "code",
   "execution_count": null,
   "metadata": {},
   "outputs": [],
   "source": [
    "hocr_paths"
   ]
  },
  {
   "cell_type": "code",
   "execution_count": null,
   "metadata": {},
   "outputs": [],
   "source": []
  }
 ],
 "metadata": {
  "kernelspec": {
   "display_name": "conda_python3",
   "language": "python",
   "name": "conda_python3"
  },
  "language_info": {
   "codemirror_mode": {
    "name": "ipython",
    "version": 3
   },
   "file_extension": ".py",
   "mimetype": "text/x-python",
   "name": "python",
   "nbconvert_exporter": "python",
   "pygments_lexer": "ipython3",
   "version": "3.6.10"
  }
 },
 "nbformat": 4,
 "nbformat_minor": 4
}
