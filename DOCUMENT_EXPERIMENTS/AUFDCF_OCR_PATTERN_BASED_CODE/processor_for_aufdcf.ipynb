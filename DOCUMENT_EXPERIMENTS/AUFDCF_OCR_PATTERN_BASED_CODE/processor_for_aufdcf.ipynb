{
 "cells": [
  {
   "cell_type": "code",
   "execution_count": null,
   "metadata": {},
   "outputs": [],
   "source": [
    "import aufdcf_data_getter as data\n",
    "import pandas as pd\n",
    "import numpy as np\n",
    "import json\n",
    "import get_labels"
   ]
  },
  {
   "cell_type": "code",
   "execution_count": null,
   "metadata": {},
   "outputs": [],
   "source": [
    "remove_rids = pd.read_csv(\"no_data_rids_2.txt\",names=[\"rid\"])\n",
    "remove_rids\n",
    "remove_rids1 = pd.read_csv(\"no_data_rids.txt\",names=[\"rid\"])\n",
    "remove_rids1"
   ]
  },
  {
   "cell_type": "code",
   "execution_count": null,
   "metadata": {},
   "outputs": [],
   "source": []
  },
  {
   "cell_type": "code",
   "execution_count": null,
   "metadata": {},
   "outputs": [],
   "source": [
    "df = pd.read_csv(\"rids_to_process/AUTOMATED_UNDERWRITING_FEEDBACK_-_DU_CODIFIED_FINDINGS\",names=[\"rid\"])\n",
    "print(\"Shape before removing rids which are not operator tagged: \",df.shape[0])\n",
    "print(\"RIDS to remove: \",len(remove_rids.rid.unique())+len(remove_rids1.rid.unique()))\n",
    "df = df[~df['rid'].isin(remove_rids.rid.unique())]\n",
    "df = df[~df['rid'].isin(remove_rids1.rid.unique())]\n",
    "print(\"After removing the useless rids: \",df.shape[0])"
   ]
  },
  {
   "cell_type": "code",
   "execution_count": null,
   "metadata": {},
   "outputs": [],
   "source": [
    "def write_pedicted_jsons(result_frame,rid):\n",
    "    data = []\n",
    "    result_frame = result_frame[result_frame.RID == rid]\n",
    "    for index,row in result_frame.iterrows():\n",
    "        \n",
    "        \n",
    "        to_dump = {\n",
    "            \"doctype\": \"AUTOMATED UNDERWRITING FEEDBACK - DU CODIFIED FINDINGS\",\n",
    "            \"document_id\": str(rid),\n",
    "            \"label\": str(row.LABEL), \n",
    "            \"entity_type\": \"DATE\",\n",
    "            \"text\": str(row.VALUE), \n",
    "            \"cloneid\": None, \n",
    "            \"coordinates\": {\"y0\": 743, \"x0\": 524, \"y1\": 776, \"x1\": 765},\n",
    "                    }\n",
    "        \n",
    "        data.append(to_dump)\n",
    "        #print(end)\n",
    "    filename = f\"eval_aufdcf/{rid}.json\"\n",
    "    with open(filename, 'w') as f:\n",
    "        json.dump(data, f)"
   ]
  },
  {
   "cell_type": "code",
   "execution_count": null,
   "metadata": {
    "scrolled": true
   },
   "outputs": [],
   "source": [
    "result_frame = pd.DataFrame(columns=[\"LABEL\",\"VALUE\",\"RID\",\"PAGE\"])\n",
    "for i in df.rid.unique():\n",
    "    temp = pd.concat(data.aggregate_formatted_entities(i))\n",
    "    result_frame = pd.concat([temp,result_frame])\n",
    "\n"
   ]
  },
  {
   "cell_type": "code",
   "execution_count": null,
   "metadata": {},
   "outputs": [],
   "source": [
    "len(result_frame.RID.unique())"
   ]
  },
  {
   "cell_type": "code",
   "execution_count": null,
   "metadata": {},
   "outputs": [],
   "source": [
    "for rid in re_read.RID.unique():\n",
    "    write_pedicted_jsons(result_frame,rid)"
   ]
  },
  {
   "cell_type": "code",
   "execution_count": null,
   "metadata": {},
   "outputs": [],
   "source": [
    "result_frame.to_csv(\"results.csv\")\n",
    "#re_read = pd.read_csv(\"results.csv\")\n"
   ]
  },
  {
   "cell_type": "code",
   "execution_count": null,
   "metadata": {},
   "outputs": [],
   "source": [
    "exp = data.get_blob(\"b6cc9fd1-e7a3-44d4-bc9d-a148a0b5271e\",1)"
   ]
  },
  {
   "cell_type": "code",
   "execution_count": null,
   "metadata": {},
   "outputs": [],
   "source": [
    "exp"
   ]
  },
  {
   "cell_type": "code",
   "execution_count": null,
   "metadata": {},
   "outputs": [],
   "source": [
    "get_labels.get_CASE_FILE_ID(exp.lower())"
   ]
  },
  {
   "cell_type": "code",
   "execution_count": null,
   "metadata": {},
   "outputs": [],
   "source": [
    "get_labels.get_PROPERTY_ADDRESS_CITY(exp.lower())"
   ]
  },
  {
   "cell_type": "code",
   "execution_count": null,
   "metadata": {},
   "outputs": [],
   "source": [
    "re_read"
   ]
  },
  {
   "cell_type": "code",
   "execution_count": null,
   "metadata": {},
   "outputs": [],
   "source": []
  },
  {
   "cell_type": "code",
   "execution_count": null,
   "metadata": {},
   "outputs": [],
   "source": []
  },
  {
   "cell_type": "code",
   "execution_count": null,
   "metadata": {},
   "outputs": [],
   "source": [
    "re_read[re_read.RID == \"12727c63-cf2e-4c3c-ae58-5cf8bcb573ca\"]"
   ]
  },
  {
   "cell_type": "code",
   "execution_count": null,
   "metadata": {},
   "outputs": [],
   "source": []
  }
 ],
 "metadata": {
  "kernelspec": {
   "display_name": "conda_python3",
   "language": "python",
   "name": "conda_python3"
  },
  "language_info": {
   "codemirror_mode": {
    "name": "ipython",
    "version": 3
   },
   "file_extension": ".py",
   "mimetype": "text/x-python",
   "name": "python",
   "nbconvert_exporter": "python",
   "pygments_lexer": "ipython3",
   "version": "3.6.10"
  }
 },
 "nbformat": 4,
 "nbformat_minor": 4
}
