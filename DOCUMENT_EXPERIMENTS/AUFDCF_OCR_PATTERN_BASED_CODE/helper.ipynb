{
 "cells": [
  {
   "cell_type": "code",
   "execution_count": null,
   "metadata": {},
   "outputs": [],
   "source": [
    "\n"
   ]
  },
  {
   "cell_type": "code",
   "execution_count": 1,
   "metadata": {},
   "outputs": [],
   "source": [
    "import pandas as pd\n",
    "import numpy as np\n",
    "import os\n",
    "import glob\n",
    "\n",
    "# os.chdir( './just_files/' )\n",
    "# result = glob.glob( '*.csv' )\n",
    "# print( result )\n",
    "\n",
    "\n",
    "# for file in result:\n",
    "#     print(\"file--->\",file)\n",
    "#     df = pd.read_csv(file)\n",
    "#     df = df.loc[:, ['rid']]\n",
    "    \n",
    "#     np.savetxt(file.replace(\".csv\",\"\"), df.rid.unique(), fmt='%s')\n"
   ]
  },
  {
   "cell_type": "code",
   "execution_count": null,
   "metadata": {},
   "outputs": [],
   "source": []
  },
  {
   "cell_type": "code",
   "execution_count": 2,
   "metadata": {},
   "outputs": [
    {
     "name": "stdout",
     "output_type": "stream",
     "text": [
      "['closingdisclosure_pickle10_05_pipeline_set.json', '1003_pickle10_05_pipeline_set.json', 'underwritingtransmittal-1008_pickle10_05_pipeline_set.json', 'demographicaddendum_pickle10_05_pipeline_set.json']\n"
     ]
    }
   ],
   "source": [
    "os.chdir(\"./snorkel_pipeline_sets/\")\n",
    "result = glob.glob( '*.json' )\n",
    "print( result )\n",
    "\n",
    "for file in result:\n",
    "    temp = file.replace(\"_pipeline_set\",\"_pickle_10_05_pipeline_set\")\n",
    "    os.rename(file,temp)"
   ]
  },
  {
   "cell_type": "code",
   "execution_count": null,
   "metadata": {},
   "outputs": [],
   "source": [
    "df.shape\n"
   ]
  },
  {
   "cell_type": "code",
   "execution_count": null,
   "metadata": {},
   "outputs": [],
   "source": [
    "df.drop_duplicates(inplace=True)\n",
    "df.shape"
   ]
  },
  {
   "cell_type": "code",
   "execution_count": 2,
   "metadata": {},
   "outputs": [
    {
     "data": {
      "text/html": [
       "<div>\n",
       "<style scoped>\n",
       "    .dataframe tbody tr th:only-of-type {\n",
       "        vertical-align: middle;\n",
       "    }\n",
       "\n",
       "    .dataframe tbody tr th {\n",
       "        vertical-align: top;\n",
       "    }\n",
       "\n",
       "    .dataframe thead th {\n",
       "        text-align: right;\n",
       "    }\n",
       "</style>\n",
       "<table border=\"1\" class=\"dataframe\">\n",
       "  <thead>\n",
       "    <tr style=\"text-align: right;\">\n",
       "      <th></th>\n",
       "      <th>_remember_id</th>\n",
       "    </tr>\n",
       "  </thead>\n",
       "  <tbody>\n",
       "    <tr>\n",
       "      <th>0</th>\n",
       "      <td>3b21ef1b-9b9c-4517-8838-11555bcf4aaf</td>\n",
       "    </tr>\n",
       "    <tr>\n",
       "      <th>1</th>\n",
       "      <td>8fa1a7a0-6cac-4519-96c2-21090177ebc9</td>\n",
       "    </tr>\n",
       "    <tr>\n",
       "      <th>2</th>\n",
       "      <td>510040a2-d530-4380-9525-e0b8b9b98e6c</td>\n",
       "    </tr>\n",
       "    <tr>\n",
       "      <th>3</th>\n",
       "      <td>806d945e-0205-4986-985c-141031fe0383</td>\n",
       "    </tr>\n",
       "    <tr>\n",
       "      <th>4</th>\n",
       "      <td>743e002d-f478-41b3-8471-ee29ab80f35b</td>\n",
       "    </tr>\n",
       "    <tr>\n",
       "      <th>...</th>\n",
       "      <td>...</td>\n",
       "    </tr>\n",
       "    <tr>\n",
       "      <th>13578</th>\n",
       "      <td>bf51bb3b-c3db-4cee-bdc2-4b8130bb1a45</td>\n",
       "    </tr>\n",
       "    <tr>\n",
       "      <th>13579</th>\n",
       "      <td>b1cb0496-e408-4591-8d5f-f1cbf4846374</td>\n",
       "    </tr>\n",
       "    <tr>\n",
       "      <th>13580</th>\n",
       "      <td>d1f071cd-5be3-4366-94c1-d9ef1cdda954</td>\n",
       "    </tr>\n",
       "    <tr>\n",
       "      <th>13581</th>\n",
       "      <td>e0ae8a6f-1ff8-43ca-bcf9-94f6c972cb9f</td>\n",
       "    </tr>\n",
       "    <tr>\n",
       "      <th>13582</th>\n",
       "      <td>d84140e9-7d14-430a-8e1d-39488db638fc</td>\n",
       "    </tr>\n",
       "  </tbody>\n",
       "</table>\n",
       "<p>13583 rows × 1 columns</p>\n",
       "</div>"
      ],
      "text/plain": [
       "                               _remember_id\n",
       "0      3b21ef1b-9b9c-4517-8838-11555bcf4aaf\n",
       "1      8fa1a7a0-6cac-4519-96c2-21090177ebc9\n",
       "2      510040a2-d530-4380-9525-e0b8b9b98e6c\n",
       "3      806d945e-0205-4986-985c-141031fe0383\n",
       "4      743e002d-f478-41b3-8471-ee29ab80f35b\n",
       "...                                     ...\n",
       "13578  bf51bb3b-c3db-4cee-bdc2-4b8130bb1a45\n",
       "13579  b1cb0496-e408-4591-8d5f-f1cbf4846374\n",
       "13580  d1f071cd-5be3-4366-94c1-d9ef1cdda954\n",
       "13581  e0ae8a6f-1ff8-43ca-bcf9-94f6c972cb9f\n",
       "13582  d84140e9-7d14-430a-8e1d-39488db638fc\n",
       "\n",
       "[13583 rows x 1 columns]"
      ]
     },
     "execution_count": 2,
     "metadata": {},
     "output_type": "execute_result"
    }
   ],
   "source": [
    "jaffa = pd.read_csv(\"rids_to_process/AUFDC.csv\")\n",
    "jaffa"
   ]
  },
  {
   "cell_type": "code",
   "execution_count": 4,
   "metadata": {},
   "outputs": [
    {
     "data": {
      "text/plain": [
       "array(['3b21ef1b-9b9c-4517-8838-11555bcf4aaf',\n",
       "       '8fa1a7a0-6cac-4519-96c2-21090177ebc9',\n",
       "       '510040a2-d530-4380-9525-e0b8b9b98e6c', ...,\n",
       "       'd1f071cd-5be3-4366-94c1-d9ef1cdda954',\n",
       "       'e0ae8a6f-1ff8-43ca-bcf9-94f6c972cb9f',\n",
       "       'd84140e9-7d14-430a-8e1d-39488db638fc'], dtype=object)"
      ]
     },
     "execution_count": 4,
     "metadata": {},
     "output_type": "execute_result"
    }
   ],
   "source": [
    "jaffa._remember_id.unique()"
   ]
  },
  {
   "cell_type": "code",
   "execution_count": 5,
   "metadata": {},
   "outputs": [
    {
     "data": {
      "text/plain": [
       "'AUTOMATED_UNDERWRITING_FEEDBACK_-_DU_CODIFIED_FINDINGS'"
      ]
     },
     "execution_count": 5,
     "metadata": {},
     "output_type": "execute_result"
    }
   ],
   "source": [
    "\"AUTOMATED UNDERWRITING FEEDBACK - DU CODIFIED FINDINGS\".replace(\" \",\"_\")"
   ]
  },
  {
   "cell_type": "code",
   "execution_count": null,
   "metadata": {},
   "outputs": [],
   "source": [
    "np.savetxt(, jaffa._remember_id.unique(), fmt='%s')"
   ]
  }
 ],
 "metadata": {
  "kernelspec": {
   "display_name": "conda_python3",
   "language": "python",
   "name": "conda_python3"
  },
  "language_info": {
   "codemirror_mode": {
    "name": "ipython",
    "version": 3
   },
   "file_extension": ".py",
   "mimetype": "text/x-python",
   "name": "python",
   "nbconvert_exporter": "python",
   "pygments_lexer": "ipython3",
   "version": "3.6.10"
  }
 },
 "nbformat": 4,
 "nbformat_minor": 4
}
