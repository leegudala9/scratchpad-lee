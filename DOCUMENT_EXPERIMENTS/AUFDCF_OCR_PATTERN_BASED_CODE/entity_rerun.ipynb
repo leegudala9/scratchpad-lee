{
 "cells": [
  {
   "cell_type": "code",
   "execution_count": 13,
   "metadata": {},
   "outputs": [],
   "source": [
    "import json\n",
    "import boto3\n",
    "import sys\n",
    "import time\n",
    "import pandas as pd\n",
    "import requests"
   ]
  },
  {
   "cell_type": "code",
   "execution_count": 14,
   "metadata": {},
   "outputs": [],
   "source": [
    "query = 'SELECT hpaths.\"_remember_id\", hpaths.\"data\" FROM \"reports_neo\".\"doc_type\" as dtype left join \"reports_neo\".\"hocr_paths\" as hpaths on dtype.\"_remember_id\" = hpaths.\"_remember_id\"'\n",
    "s3resource = boto3.resource(\"s3\")\n",
    "athena_client = boto3.client(\"athena\")\n",
    "ssm = boto3.client(\"ssm\")\n",
    "root_url = ssm.get_parameter(Name=f\"/account/root-url\")[\"Parameter\"][\"Value\"]\n",
    "apikey = ssm.get_parameter(Name=\"/account/internal-api-key\")[\"Parameter\"][\"Value\"]\n",
    "base_url = f\"https://tagentities.{root_url}\"\n",
    "acc_owner = ssm.get_parameter(Name=\"/account/owner\")[\"Parameter\"][\"Value\"].upper()\n",
    "headers = {\"x-api-key\": apikey}\n"
   ]
  },
  {
   "cell_type": "code",
   "execution_count": 15,
   "metadata": {},
   "outputs": [
    {
     "data": {
      "text/plain": [
       "'USBANK'"
      ]
     },
     "execution_count": 15,
     "metadata": {},
     "output_type": "execute_result"
    }
   ],
   "source": [
    "acc_owner"
   ]
  },
  {
   "cell_type": "code",
   "execution_count": 16,
   "metadata": {},
   "outputs": [],
   "source": [
    "def fetchall_athena(query_string, client, athena_bucket, get_first_col=False):\n",
    "    query_id = client.start_query_execution(\n",
    "        QueryString=query_string,\n",
    "        QueryExecutionContext={\"Database\": \"reports_neo\"},\n",
    "        ResultConfiguration={\"OutputLocation\": f\"s3://{athena_bucket}\"},\n",
    "    )[\"QueryExecutionId\"]\n",
    "    query_status = None\n",
    "    while query_status == \"QUEUED\" or query_status == \"RUNNING\" or query_status is None:\n",
    "        query_status = client.get_query_execution(QueryExecutionId=query_id)[\n",
    "            \"QueryExecution\"\n",
    "        ][\"Status\"][\"State\"]\n",
    "        if query_status == \"FAILED\" or query_status == \"CANCELLED\":\n",
    "            raise Exception(\n",
    "                'Athena query with the string \"{}\" failed or was cancelled'.format(\n",
    "                    query_string\n",
    "                )\n",
    "            )\n",
    "        time.sleep(10)\n",
    "    results_paginator = client.get_paginator(\"get_query_results\")\n",
    "    results_iter = results_paginator.paginate(\n",
    "        QueryExecutionId=query_id, PaginationConfig={\"PageSize\": 1000}\n",
    "    )\n",
    "    results = []\n",
    "    data_list = []\n",
    "    for results_page in results_iter:\n",
    "        for row in results_page[\"ResultSet\"][\"Rows\"]:\n",
    "            data_list.append(row[\"Data\"])\n",
    "    if get_first_col:\n",
    "        start_index = 0\n",
    "    else:\n",
    "        start_index = 1\n",
    "    for datum in data_list[start_index:]:\n",
    "        results.append([x.get(\"VarCharValue\") for x in datum])\n",
    "    return [tuple(x) for x in results]\n",
    "\n",
    "\n",
    "def get_athena_bucket(s3resource):\n",
    "    # Get athena bucket name\n",
    "    all_buckets = list(s3resource.buckets.all())\n",
    "    athena_buckets = [x.name for x in all_buckets if \"athena\" in x.name]\n",
    "    if len(athena_buckets):\n",
    "        return athena_buckets[0]\n",
    "    print(\"No athena buckets available\")\n",
    "    sys.exit()\n",
    "\n",
    "\n",
    "    \n",
    "def rerun(rid, path):\n",
    "    try:\n",
    "        payload = {\n",
    "            \"_remember_id\": rid,\n",
    "            \"_paginated_hocr_metadata_path\": path,\n",
    "            \"_path\": \"tagging\",\n",
    "            \"_read_wp_task_token\": \"fake\",\n",
    "            \"AccountOwner\": acc_owner,\n",
    "            \"taskToken\": \"fake\"\n",
    "        }\n",
    "        rer = requests.post(\n",
    "                url=base_url,\n",
    "                headers=headers,\n",
    "                data=json.dumps(payload),\n",
    "                verify=True,\n",
    "            )\n",
    "        return json.loads(rer.text)['_execution_arn']\n",
    "    except:\n",
    "        return \"failed\"\n"
   ]
  },
  {
   "cell_type": "code",
   "execution_count": 17,
   "metadata": {},
   "outputs": [],
   "source": [
    "athena_bucket = get_athena_bucket(s3resource)\n",
    "hocr_paths = pd.DataFrame(fetchall_athena(query, athena_client, athena_bucket))"
   ]
  },
  {
   "cell_type": "code",
   "execution_count": 18,
   "metadata": {},
   "outputs": [],
   "source": [
    "hocr_paths.columns = [ \"_remember_id\", \"_paginated_hocr_metadata_path\"]\n",
    "hocr_paths=hocr_paths.dropna()"
   ]
  },
  {
   "cell_type": "code",
   "execution_count": 19,
   "metadata": {},
   "outputs": [
    {
     "data": {
      "text/plain": [
       "False"
      ]
     },
     "execution_count": 19,
     "metadata": {},
     "output_type": "execute_result"
    }
   ],
   "source": [
    "None in list(hocr_paths._remember_id.unique())"
   ]
  },
  {
   "cell_type": "code",
   "execution_count": 20,
   "metadata": {},
   "outputs": [
    {
     "data": {
      "text/html": [
       "<div>\n",
       "<style scoped>\n",
       "    .dataframe tbody tr th:only-of-type {\n",
       "        vertical-align: middle;\n",
       "    }\n",
       "\n",
       "    .dataframe tbody tr th {\n",
       "        vertical-align: top;\n",
       "    }\n",
       "\n",
       "    .dataframe thead th {\n",
       "        text-align: right;\n",
       "    }\n",
       "</style>\n",
       "<table border=\"1\" class=\"dataframe\">\n",
       "  <thead>\n",
       "    <tr style=\"text-align: right;\">\n",
       "      <th></th>\n",
       "      <th>_remember_id</th>\n",
       "      <th>_paginated_hocr_metadata_path</th>\n",
       "    </tr>\n",
       "  </thead>\n",
       "  <tbody>\n",
       "    <tr>\n",
       "      <th>4</th>\n",
       "      <td>2bedf777-f8ad-45f8-a2f4-33398948c6a2</td>\n",
       "      <td>S3://hw-app-usbank-training/aiva/SI1/2019:11:1...</td>\n",
       "    </tr>\n",
       "    <tr>\n",
       "      <th>21</th>\n",
       "      <td>86f2c031-d0f9-444e-a1f1-c03019b11cc6</td>\n",
       "      <td>S3://hw-app-usbank-training/aiva/SI/2020:07:15...</td>\n",
       "    </tr>\n",
       "    <tr>\n",
       "      <th>24</th>\n",
       "      <td>d2f0b5fa-18a2-46a5-80c2-df78f14c79bf</td>\n",
       "      <td>S3://hw-app-usbank-training/aiva/SI/2020:07:15...</td>\n",
       "    </tr>\n",
       "    <tr>\n",
       "      <th>38</th>\n",
       "      <td>a5584b82-e49b-4dd4-a9a7-b45ad3387ddf</td>\n",
       "      <td>S3://hw-app-usbank-training/aiva/SI1/2020:01:2...</td>\n",
       "    </tr>\n",
       "    <tr>\n",
       "      <th>40</th>\n",
       "      <td>a04340de-81dd-4b45-b725-5f5467401ff3</td>\n",
       "      <td>S3://hw-app-usbank-training/aiva/SI1/2020:01:2...</td>\n",
       "    </tr>\n",
       "    <tr>\n",
       "      <th>...</th>\n",
       "      <td>...</td>\n",
       "      <td>...</td>\n",
       "    </tr>\n",
       "    <tr>\n",
       "      <th>1333198</th>\n",
       "      <td>f0393e35-32cc-4455-a377-3ffe72130036</td>\n",
       "      <td>S3://hw-app-usbank-training/aiva/SI1/2020:02:1...</td>\n",
       "    </tr>\n",
       "    <tr>\n",
       "      <th>1333204</th>\n",
       "      <td>e5e7b447-718a-48ed-b0cb-ce277f90acd7</td>\n",
       "      <td>S3://hw-app-usbank-training/aiva/SI1/2020:02:1...</td>\n",
       "    </tr>\n",
       "    <tr>\n",
       "      <th>1333207</th>\n",
       "      <td>f86b8099-e11b-4f20-8449-68bfbabf04eb</td>\n",
       "      <td>S3://hw-app-usbank-training/aiva/SI1/2020:02:1...</td>\n",
       "    </tr>\n",
       "    <tr>\n",
       "      <th>1333208</th>\n",
       "      <td>fb8083f3-c5fa-4275-82f7-b34dfbce9cd9</td>\n",
       "      <td>S3://hw-app-usbank-training/aiva/SI1/2020:02:1...</td>\n",
       "    </tr>\n",
       "    <tr>\n",
       "      <th>1333212</th>\n",
       "      <td>f747a341-0111-4595-815b-6c26993d7925</td>\n",
       "      <td>S3://hw-app-usbank-training/aiva/SI1/2020:02:1...</td>\n",
       "    </tr>\n",
       "  </tbody>\n",
       "</table>\n",
       "<p>220272 rows × 2 columns</p>\n",
       "</div>"
      ],
      "text/plain": [
       "                                 _remember_id  \\\n",
       "4        2bedf777-f8ad-45f8-a2f4-33398948c6a2   \n",
       "21       86f2c031-d0f9-444e-a1f1-c03019b11cc6   \n",
       "24       d2f0b5fa-18a2-46a5-80c2-df78f14c79bf   \n",
       "38       a5584b82-e49b-4dd4-a9a7-b45ad3387ddf   \n",
       "40       a04340de-81dd-4b45-b725-5f5467401ff3   \n",
       "...                                       ...   \n",
       "1333198  f0393e35-32cc-4455-a377-3ffe72130036   \n",
       "1333204  e5e7b447-718a-48ed-b0cb-ce277f90acd7   \n",
       "1333207  f86b8099-e11b-4f20-8449-68bfbabf04eb   \n",
       "1333208  fb8083f3-c5fa-4275-82f7-b34dfbce9cd9   \n",
       "1333212  f747a341-0111-4595-815b-6c26993d7925   \n",
       "\n",
       "                             _paginated_hocr_metadata_path  \n",
       "4        S3://hw-app-usbank-training/aiva/SI1/2019:11:1...  \n",
       "21       S3://hw-app-usbank-training/aiva/SI/2020:07:15...  \n",
       "24       S3://hw-app-usbank-training/aiva/SI/2020:07:15...  \n",
       "38       S3://hw-app-usbank-training/aiva/SI1/2020:01:2...  \n",
       "40       S3://hw-app-usbank-training/aiva/SI1/2020:01:2...  \n",
       "...                                                    ...  \n",
       "1333198  S3://hw-app-usbank-training/aiva/SI1/2020:02:1...  \n",
       "1333204  S3://hw-app-usbank-training/aiva/SI1/2020:02:1...  \n",
       "1333207  S3://hw-app-usbank-training/aiva/SI1/2020:02:1...  \n",
       "1333208  S3://hw-app-usbank-training/aiva/SI1/2020:02:1...  \n",
       "1333212  S3://hw-app-usbank-training/aiva/SI1/2020:02:1...  \n",
       "\n",
       "[220272 rows x 2 columns]"
      ]
     },
     "execution_count": 20,
     "metadata": {},
     "output_type": "execute_result"
    }
   ],
   "source": [
    "hocr_paths"
   ]
  },
  {
   "cell_type": "code",
   "execution_count": null,
   "metadata": {},
   "outputs": [],
   "source": [
    "hocr_paths[\"c\"] = hocr_paths.apply(lambda row: rerun(row[\"_remember_id\"], row[\"_paginated_hocr_metadata_path\"]), axis = 1)"
   ]
  },
  {
   "cell_type": "code",
   "execution_count": null,
   "metadata": {},
   "outputs": [
    {
     "data": {
      "text/plain": [
       "220272"
      ]
     },
     "execution_count": 22,
     "metadata": {},
     "output_type": "execute_result"
    }
   ],
   "source": [
    "len(hocr_paths)"
   ]
  },
  {
   "cell_type": "code",
   "execution_count": null,
   "metadata": {},
   "outputs": [
    {
     "data": {
      "text/html": [
       "<div>\n",
       "<style scoped>\n",
       "    .dataframe tbody tr th:only-of-type {\n",
       "        vertical-align: middle;\n",
       "    }\n",
       "\n",
       "    .dataframe tbody tr th {\n",
       "        vertical-align: top;\n",
       "    }\n",
       "\n",
       "    .dataframe thead th {\n",
       "        text-align: right;\n",
       "    }\n",
       "</style>\n",
       "<table border=\"1\" class=\"dataframe\">\n",
       "  <thead>\n",
       "    <tr style=\"text-align: right;\">\n",
       "      <th></th>\n",
       "      <th>_remember_id</th>\n",
       "      <th>_paginated_hocr_metadata_path</th>\n",
       "      <th>c</th>\n",
       "    </tr>\n",
       "  </thead>\n",
       "  <tbody>\n",
       "    <tr>\n",
       "      <th>4</th>\n",
       "      <td>2bedf777-f8ad-45f8-a2f4-33398948c6a2</td>\n",
       "      <td>S3://hw-app-usbank-training/aiva/SI1/2019:11:1...</td>\n",
       "      <td>arn:aws:states:us-east-1:727115606880:executio...</td>\n",
       "    </tr>\n",
       "    <tr>\n",
       "      <th>21</th>\n",
       "      <td>86f2c031-d0f9-444e-a1f1-c03019b11cc6</td>\n",
       "      <td>S3://hw-app-usbank-training/aiva/SI/2020:07:15...</td>\n",
       "      <td>arn:aws:states:us-east-1:727115606880:executio...</td>\n",
       "    </tr>\n",
       "    <tr>\n",
       "      <th>24</th>\n",
       "      <td>d2f0b5fa-18a2-46a5-80c2-df78f14c79bf</td>\n",
       "      <td>S3://hw-app-usbank-training/aiva/SI/2020:07:15...</td>\n",
       "      <td>arn:aws:states:us-east-1:727115606880:executio...</td>\n",
       "    </tr>\n",
       "    <tr>\n",
       "      <th>38</th>\n",
       "      <td>a5584b82-e49b-4dd4-a9a7-b45ad3387ddf</td>\n",
       "      <td>S3://hw-app-usbank-training/aiva/SI1/2020:01:2...</td>\n",
       "      <td>arn:aws:states:us-east-1:727115606880:executio...</td>\n",
       "    </tr>\n",
       "    <tr>\n",
       "      <th>40</th>\n",
       "      <td>a04340de-81dd-4b45-b725-5f5467401ff3</td>\n",
       "      <td>S3://hw-app-usbank-training/aiva/SI1/2020:01:2...</td>\n",
       "      <td>arn:aws:states:us-east-1:727115606880:executio...</td>\n",
       "    </tr>\n",
       "    <tr>\n",
       "      <th>...</th>\n",
       "      <td>...</td>\n",
       "      <td>...</td>\n",
       "      <td>...</td>\n",
       "    </tr>\n",
       "    <tr>\n",
       "      <th>1333198</th>\n",
       "      <td>f0393e35-32cc-4455-a377-3ffe72130036</td>\n",
       "      <td>S3://hw-app-usbank-training/aiva/SI1/2020:02:1...</td>\n",
       "      <td>arn:aws:states:us-east-1:727115606880:executio...</td>\n",
       "    </tr>\n",
       "    <tr>\n",
       "      <th>1333204</th>\n",
       "      <td>e5e7b447-718a-48ed-b0cb-ce277f90acd7</td>\n",
       "      <td>S3://hw-app-usbank-training/aiva/SI1/2020:02:1...</td>\n",
       "      <td>arn:aws:states:us-east-1:727115606880:executio...</td>\n",
       "    </tr>\n",
       "    <tr>\n",
       "      <th>1333207</th>\n",
       "      <td>f86b8099-e11b-4f20-8449-68bfbabf04eb</td>\n",
       "      <td>S3://hw-app-usbank-training/aiva/SI1/2020:02:1...</td>\n",
       "      <td>arn:aws:states:us-east-1:727115606880:executio...</td>\n",
       "    </tr>\n",
       "    <tr>\n",
       "      <th>1333208</th>\n",
       "      <td>fb8083f3-c5fa-4275-82f7-b34dfbce9cd9</td>\n",
       "      <td>S3://hw-app-usbank-training/aiva/SI1/2020:02:1...</td>\n",
       "      <td>arn:aws:states:us-east-1:727115606880:executio...</td>\n",
       "    </tr>\n",
       "    <tr>\n",
       "      <th>1333212</th>\n",
       "      <td>f747a341-0111-4595-815b-6c26993d7925</td>\n",
       "      <td>S3://hw-app-usbank-training/aiva/SI1/2020:02:1...</td>\n",
       "      <td>arn:aws:states:us-east-1:727115606880:executio...</td>\n",
       "    </tr>\n",
       "  </tbody>\n",
       "</table>\n",
       "<p>220272 rows × 3 columns</p>\n",
       "</div>"
      ],
      "text/plain": [
       "                                 _remember_id  \\\n",
       "4        2bedf777-f8ad-45f8-a2f4-33398948c6a2   \n",
       "21       86f2c031-d0f9-444e-a1f1-c03019b11cc6   \n",
       "24       d2f0b5fa-18a2-46a5-80c2-df78f14c79bf   \n",
       "38       a5584b82-e49b-4dd4-a9a7-b45ad3387ddf   \n",
       "40       a04340de-81dd-4b45-b725-5f5467401ff3   \n",
       "...                                       ...   \n",
       "1333198  f0393e35-32cc-4455-a377-3ffe72130036   \n",
       "1333204  e5e7b447-718a-48ed-b0cb-ce277f90acd7   \n",
       "1333207  f86b8099-e11b-4f20-8449-68bfbabf04eb   \n",
       "1333208  fb8083f3-c5fa-4275-82f7-b34dfbce9cd9   \n",
       "1333212  f747a341-0111-4595-815b-6c26993d7925   \n",
       "\n",
       "                             _paginated_hocr_metadata_path  \\\n",
       "4        S3://hw-app-usbank-training/aiva/SI1/2019:11:1...   \n",
       "21       S3://hw-app-usbank-training/aiva/SI/2020:07:15...   \n",
       "24       S3://hw-app-usbank-training/aiva/SI/2020:07:15...   \n",
       "38       S3://hw-app-usbank-training/aiva/SI1/2020:01:2...   \n",
       "40       S3://hw-app-usbank-training/aiva/SI1/2020:01:2...   \n",
       "...                                                    ...   \n",
       "1333198  S3://hw-app-usbank-training/aiva/SI1/2020:02:1...   \n",
       "1333204  S3://hw-app-usbank-training/aiva/SI1/2020:02:1...   \n",
       "1333207  S3://hw-app-usbank-training/aiva/SI1/2020:02:1...   \n",
       "1333208  S3://hw-app-usbank-training/aiva/SI1/2020:02:1...   \n",
       "1333212  S3://hw-app-usbank-training/aiva/SI1/2020:02:1...   \n",
       "\n",
       "                                                         c  \n",
       "4        arn:aws:states:us-east-1:727115606880:executio...  \n",
       "21       arn:aws:states:us-east-1:727115606880:executio...  \n",
       "24       arn:aws:states:us-east-1:727115606880:executio...  \n",
       "38       arn:aws:states:us-east-1:727115606880:executio...  \n",
       "40       arn:aws:states:us-east-1:727115606880:executio...  \n",
       "...                                                    ...  \n",
       "1333198  arn:aws:states:us-east-1:727115606880:executio...  \n",
       "1333204  arn:aws:states:us-east-1:727115606880:executio...  \n",
       "1333207  arn:aws:states:us-east-1:727115606880:executio...  \n",
       "1333208  arn:aws:states:us-east-1:727115606880:executio...  \n",
       "1333212  arn:aws:states:us-east-1:727115606880:executio...  \n",
       "\n",
       "[220272 rows x 3 columns]"
      ]
     },
     "execution_count": 23,
     "metadata": {},
     "output_type": "execute_result"
    }
   ],
   "source": [
    "hocr_paths"
   ]
  },
  {
   "cell_type": "code",
   "execution_count": null,
   "metadata": {},
   "outputs": [],
   "source": []
  }
 ],
 "metadata": {
  "kernelspec": {
   "display_name": "conda_python3",
   "language": "python",
   "name": "conda_python3"
  },
  "language_info": {
   "codemirror_mode": {
    "name": "ipython",
    "version": 3
   },
   "file_extension": ".py",
   "mimetype": "text/x-python",
   "name": "python",
   "nbconvert_exporter": "python",
   "pygments_lexer": "ipython3",
   "version": "3.6.10"
  }
 },
 "nbformat": 4,
 "nbformat_minor": 4
}
